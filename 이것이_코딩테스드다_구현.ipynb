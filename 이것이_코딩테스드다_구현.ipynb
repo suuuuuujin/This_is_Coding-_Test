{
  "nbformat": 4,
  "nbformat_minor": 0,
  "metadata": {
    "colab": {
      "name": "이것이 코딩테스드다_구현.ipynb",
      "provenance": [],
      "collapsed_sections": [],
      "authorship_tag": "ABX9TyPNjyceZyFb/h0+K1U0xYZ/",
      "include_colab_link": true
    },
    "kernelspec": {
      "name": "python3",
      "display_name": "Python 3"
    },
    "language_info": {
      "name": "python"
    }
  },
  "cells": [
    {
      "cell_type": "markdown",
      "metadata": {
        "id": "view-in-github",
        "colab_type": "text"
      },
      "source": [
        "<a href=\"https://colab.research.google.com/github/suuuuuujin/This_is_Coding_Test/blob/main/%EC%9D%B4%EA%B2%83%EC%9D%B4_%EC%BD%94%EB%94%A9%ED%85%8C%EC%8A%A4%EB%93%9C%EB%8B%A4_%EA%B5%AC%ED%98%84.ipynb\" target=\"_parent\"><img src=\"https://colab.research.google.com/assets/colab-badge.svg\" alt=\"Open In Colab\"/></a>"
      ]
    },
    {
      "cell_type": "markdown",
      "metadata": {
        "id": "QuT55ZvCWv1C"
      },
      "source": [
        "# Chapter 4 구현"
      ]
    },
    {
      "cell_type": "markdown",
      "metadata": {
        "id": "Mib-ckbCW4UQ"
      },
      "source": [
        "## 1. 아이디어를 코드로 바꾸는 구현"
      ]
    },
    {
      "cell_type": "markdown",
      "metadata": {
        "id": "2ywKEO10bnQW"
      },
      "source": [
        "### 예제 4-1. 상하좌우"
      ]
    },
    {
      "cell_type": "markdown",
      "metadata": {
        "id": "PYN03lI8vRJE"
      },
      "source": [
        "### Me"
      ]
    },
    {
      "cell_type": "code",
      "metadata": {
        "colab": {
          "base_uri": "https://localhost:8080/"
        },
        "id": "cvN2tLM1WoiO",
        "outputId": "c419a987-52a4-4e66-be73-7cceeb9efc6d"
      },
      "source": [
        "n = int(input())"
      ],
      "execution_count": 53,
      "outputs": [
        {
          "output_type": "stream",
          "text": [
            "5\n"
          ],
          "name": "stdout"
        }
      ]
    },
    {
      "cell_type": "code",
      "metadata": {
        "colab": {
          "base_uri": "https://localhost:8080/"
        },
        "id": "mgb7EpbMcBNf",
        "outputId": "3cf1f8b3-565b-45c4-b51f-b26bce936b94"
      },
      "source": [
        "move = input().split()"
      ],
      "execution_count": 54,
      "outputs": [
        {
          "output_type": "stream",
          "text": [
            "R R R U D D\n"
          ],
          "name": "stdout"
        }
      ]
    },
    {
      "cell_type": "code",
      "metadata": {
        "colab": {
          "base_uri": "https://localhost:8080/"
        },
        "id": "oH_f_m4ecJKQ",
        "outputId": "dacc89c9-995d-41c0-bf06-052d2d2cb1cf"
      },
      "source": [
        "move"
      ],
      "execution_count": 55,
      "outputs": [
        {
          "output_type": "execute_result",
          "data": {
            "text/plain": [
              "['R', 'R', 'R', 'U', 'D', 'D']"
            ]
          },
          "metadata": {
            "tags": []
          },
          "execution_count": 55
        }
      ]
    },
    {
      "cell_type": "code",
      "metadata": {
        "colab": {
          "base_uri": "https://localhost:8080/"
        },
        "id": "mfrEzGXbfEsq",
        "outputId": "2e5047e0-de28-4035-bedc-69199a55f421"
      },
      "source": [
        "x, y = 1, 1\n",
        "\n",
        "for i in range(len(move)):\n",
        "  if (move[i] == \"R\") & (y < n) :\n",
        "    y += 1\n",
        "  elif (move[i] == \"L\") & (y > 2) :\n",
        "    y -= 1\n",
        "  elif (move[i] == \"U\") & (x > 2) :\n",
        "    x -= 1\n",
        "  elif (move[i] == \"D\") & (x < n) :\n",
        "    x += 1\n",
        "print(x,y)"
      ],
      "execution_count": 56,
      "outputs": [
        {
          "output_type": "stream",
          "text": [
            "3 4\n"
          ],
          "name": "stdout"
        }
      ]
    },
    {
      "cell_type": "code",
      "metadata": {
        "colab": {
          "base_uri": "https://localhost:8080/"
        },
        "id": "aIDIygJpcLlR",
        "outputId": "78082240-aeb7-4030-a9af-cdbc6cf8f5ed"
      },
      "source": [
        "# x, y = 1, 1\n",
        "\n",
        "# for i in range(len(move)):\n",
        "#   print(i,move[i], x,y)\n",
        "#   if move[i] == \"R\" :\n",
        "#     y += 1\n",
        "#   elif move[i] == \"L\":\n",
        "#     y -= 1\n",
        "#   elif move[i] == \"U\":\n",
        "#     x -= 1\n",
        "#   elif move[i] == \"D\":\n",
        "#     x += 1\n",
        "  \n",
        "#   if x <1 or x>n or y <1 or y>n:\n",
        "#     print('continue', '\\n')\n",
        "#     continue                       # x,y 가 이미 계산된 이후라서 (0,4)로 입력받아져 있음 \n",
        "#   print(x, y, '\\n')\n",
        "\n",
        "# print('최종:', x, y)  "
      ],
      "execution_count": 75,
      "outputs": [
        {
          "output_type": "stream",
          "text": [
            "0 R 1 1\n",
            "1 2 \n",
            "\n",
            "1 R 1 2\n",
            "1 3 \n",
            "\n",
            "2 R 1 3\n",
            "1 4 \n",
            "\n",
            "3 U 1 4\n",
            "continue \n",
            "\n",
            "4 D 0 4\n",
            "1 4 \n",
            "\n",
            "5 D 1 4\n",
            "2 4 \n",
            "\n",
            "최종: 2 4\n"
          ],
          "name": "stdout"
        }
      ]
    },
    {
      "cell_type": "markdown",
      "metadata": {
        "id": "mgNWwfs-kI-J"
      },
      "source": [
        "### 답안 예시"
      ]
    },
    {
      "cell_type": "code",
      "metadata": {
        "colab": {
          "base_uri": "https://localhost:8080/"
        },
        "id": "ZeWIlyjncU0f",
        "outputId": "71fdc809-882a-4a0b-c61a-302b54134af5"
      },
      "source": [
        "n = int(input())\n",
        "x, y = 1, 1\n",
        "plans = input().split()"
      ],
      "execution_count": 59,
      "outputs": [
        {
          "output_type": "stream",
          "text": [
            "5\n",
            "R R R U D D\n"
          ],
          "name": "stdout"
        }
      ]
    },
    {
      "cell_type": "code",
      "metadata": {
        "id": "LP5MoHD5cVTP"
      },
      "source": [
        "dx = [0 ,0, -1, 1]\n",
        "dy = [-1, 1, 0, 0]\n",
        "move_types = [\"L\",\"R\",\"U\",\"D\"]"
      ],
      "execution_count": 60,
      "outputs": []
    },
    {
      "cell_type": "code",
      "metadata": {
        "colab": {
          "base_uri": "https://localhost:8080/"
        },
        "id": "F0anky_mkct0",
        "outputId": "dbb66491-a3bb-4cce-ed6d-fed4812c49cb"
      },
      "source": [
        "for plan in plans:\n",
        "  for i in range(len(move_types)):\n",
        "    if plan == move_types[i]:\n",
        "      nx = x + dx[i]\n",
        "      ny = y + dy[i]\n",
        "  \n",
        "  if nx < 1 or ny < 1 or nx > n or ny > n :\n",
        "    continue\n",
        "  print(nx, ny)\n",
        "  x,y = nx, ny\n",
        "\n",
        "print(x, y)"
      ],
      "execution_count": 61,
      "outputs": [
        {
          "output_type": "stream",
          "text": [
            "1 2\n",
            "1 3\n",
            "1 4\n",
            "2 4\n",
            "3 4\n",
            "3 4\n"
          ],
          "name": "stdout"
        }
      ]
    },
    {
      "cell_type": "code",
      "metadata": {
        "id": "5h6iryohk_AC"
      },
      "source": [
        ""
      ],
      "execution_count": null,
      "outputs": []
    },
    {
      "cell_type": "markdown",
      "metadata": {
        "id": "p87LDj8cqLDW"
      },
      "source": [
        "### 예제 4-2. 시각"
      ]
    },
    {
      "cell_type": "markdown",
      "metadata": {
        "id": "sENKS6gGvTQ-"
      },
      "source": [
        "### Me"
      ]
    },
    {
      "cell_type": "code",
      "metadata": {
        "colab": {
          "base_uri": "https://localhost:8080/"
        },
        "id": "1BKUyP0dqNDE",
        "outputId": "2f1858a6-9bd2-4f12-c9fa-b0cefc02191d"
      },
      "source": [
        "n = int(input())"
      ],
      "execution_count": 76,
      "outputs": [
        {
          "output_type": "stream",
          "text": [
            "5\n"
          ],
          "name": "stdout"
        }
      ]
    },
    {
      "cell_type": "code",
      "metadata": {
        "id": "XCrbVuixrsnW"
      },
      "source": [
        "for i in range(1,n+1):\n",
        "  for j in range(60):\n",
        "    for k in range(60):\n",
        "      i in \n"
      ],
      "execution_count": null,
      "outputs": []
    },
    {
      "cell_type": "markdown",
      "metadata": {
        "id": "KEYu4Y7wvUae"
      },
      "source": [
        "### 답안 예시"
      ]
    },
    {
      "cell_type": "code",
      "metadata": {
        "colab": {
          "base_uri": "https://localhost:8080/"
        },
        "id": "WERQ2qq8vVfx",
        "outputId": "d75407cd-c2a6-41f7-80df-ebe8999fe285"
      },
      "source": [
        "h = int(input())"
      ],
      "execution_count": 78,
      "outputs": [
        {
          "output_type": "stream",
          "text": [
            "5\n"
          ],
          "name": "stdout"
        }
      ]
    },
    {
      "cell_type": "code",
      "metadata": {
        "colab": {
          "base_uri": "https://localhost:8080/"
        },
        "id": "PI9SDZcPviqT",
        "outputId": "33151f7a-c05b-4064-bf53-18173f1e51f9"
      },
      "source": [
        "count = 0\n",
        "for i in range(h+1):\n",
        "  for j in range(60):\n",
        "    for k in range(60):\n",
        "      if '3' in str(i)+str(j)+str(k):\n",
        "        count += 1\n",
        "\n",
        "print(count)"
      ],
      "execution_count": 80,
      "outputs": [
        {
          "output_type": "stream",
          "text": [
            "11475\n"
          ],
          "name": "stdout"
        }
      ]
    },
    {
      "cell_type": "code",
      "metadata": {
        "id": "u86EJsHYvwvw"
      },
      "source": [
        ""
      ],
      "execution_count": null,
      "outputs": []
    },
    {
      "cell_type": "markdown",
      "metadata": {
        "id": "iIlIQYudv6AS"
      },
      "source": [
        "## 2.왕실의 나이트"
      ]
    },
    {
      "cell_type": "markdown",
      "metadata": {
        "id": "xgKuVid32B7H"
      },
      "source": [
        "### Me"
      ]
    },
    {
      "cell_type": "code",
      "metadata": {
        "colab": {
          "base_uri": "https://localhost:8080/"
        },
        "id": "drpsaMuFv7f2",
        "outputId": "44e13263-9bc4-47da-e25d-5650a39242c4"
      },
      "source": [
        "xy = str(input())"
      ],
      "execution_count": 99,
      "outputs": [
        {
          "output_type": "stream",
          "text": [
            "c2\n"
          ],
          "name": "stdout"
        }
      ]
    },
    {
      "cell_type": "code",
      "metadata": {
        "colab": {
          "base_uri": "https://localhost:8080/"
        },
        "id": "dIX_5iLxxH6H",
        "outputId": "26179d9d-87e9-4d0e-efeb-bc56928a4579"
      },
      "source": [
        "print(xy[0]); print(xy[1])"
      ],
      "execution_count": 100,
      "outputs": [
        {
          "output_type": "stream",
          "text": [
            "c\n",
            "2\n"
          ],
          "name": "stdout"
        }
      ]
    },
    {
      "cell_type": "code",
      "metadata": {
        "id": "m7hGuH8qyjUm"
      },
      "source": [
        "if xy[0] == \"a\":\n",
        "  x = 1\n",
        "elif xy[0] == \"b\":\n",
        "  x = 2\n",
        "elif xy[0] == \"c\":\n",
        "  x = 3\n",
        "elif xy[0] == \"d\":\n",
        "  x = 4\n",
        "elif xy[0] == \"e\":\n",
        "  x = 5\n",
        "elif xy[0] == \"f\":\n",
        "  x = 6\n",
        "elif xy[0] == \"g\":\n",
        "  x = 7\n",
        "elif xy[0] == \"h\":\n",
        "  x = 8\n",
        "\n",
        "  \n",
        "y = int(xy[1])"
      ],
      "execution_count": 101,
      "outputs": []
    },
    {
      "cell_type": "code",
      "metadata": {
        "colab": {
          "base_uri": "https://localhost:8080/"
        },
        "id": "6nGEQ98WxI4x",
        "outputId": "bbdf4b70-3520-49eb-ca8c-fe6d500faa1f"
      },
      "source": [
        "print(x); print(y)"
      ],
      "execution_count": 102,
      "outputs": [
        {
          "output_type": "stream",
          "text": [
            "3\n",
            "2\n"
          ],
          "name": "stdout"
        }
      ]
    },
    {
      "cell_type": "code",
      "metadata": {
        "colab": {
          "base_uri": "https://localhost:8080/"
        },
        "id": "aNe034FCzfc3",
        "outputId": "05b7808f-4b1a-45d2-962d-a45d5719a3c7"
      },
      "source": [
        "x1 = [2,2,-2,-2,-1,1,-1,1]\n",
        "y1 = [1,-1,1,-1,2,2,-2,-2]\n",
        "\n",
        "nx , ny = x, y\n",
        "\n",
        "count = 0\n",
        "for i in range(len(x1)):\n",
        "  nx += x1[i]\n",
        "  ny += y1[i]\n",
        "\n",
        "  if (nx >= 1 and nx <= 8) and (ny >= 1 and ny <= 8):\n",
        "    count += 1\n",
        "  nx , ny = x, y\n",
        "\n",
        "print(count)"
      ],
      "execution_count": 103,
      "outputs": [
        {
          "output_type": "stream",
          "text": [
            "6\n"
          ],
          "name": "stdout"
        }
      ]
    },
    {
      "cell_type": "code",
      "metadata": {
        "id": "jiuz4YhK1zo8"
      },
      "source": [
        ""
      ],
      "execution_count": null,
      "outputs": []
    },
    {
      "cell_type": "markdown",
      "metadata": {
        "id": "6N1Us8XR2EIQ"
      },
      "source": [
        "### 답안 예시"
      ]
    },
    {
      "cell_type": "code",
      "metadata": {
        "colab": {
          "base_uri": "https://localhost:8080/"
        },
        "id": "cncsjd6m2FqG",
        "outputId": "9fe3bbd2-b337-4e3f-e78a-29aca1074de9"
      },
      "source": [
        "input_data = input()\n",
        "row = int(input_data[1])\n",
        "column = int(ord(input_data[0])) - int(ord('a')) + 1"
      ],
      "execution_count": 105,
      "outputs": [
        {
          "output_type": "stream",
          "text": [
            "a1\n"
          ],
          "name": "stdout"
        }
      ]
    },
    {
      "cell_type": "code",
      "metadata": {
        "id": "VtIEVmp42ifG"
      },
      "source": [
        "steps = [(-2,-1), (-1,-2), (1,-2), (2,-1), (2,1), (1,2), (-1,2), (-2,1)]"
      ],
      "execution_count": 115,
      "outputs": []
    },
    {
      "cell_type": "code",
      "metadata": {
        "colab": {
          "base_uri": "https://localhost:8080/"
        },
        "id": "2K66t9v62MLP",
        "outputId": "79923c8b-2858-4adf-f00d-18fd55fa329a"
      },
      "source": [
        "result = 0\n",
        "for step in steps:\n",
        "  next_row = row + step[0]\n",
        "  next_column = column + step[1]\n",
        "\n",
        "  if next_row >= 1 and next_row <= 8 and next_column >= 1 and next_column <= 8:\n",
        "    result += 1\n",
        "\n",
        "print(result)"
      ],
      "execution_count": 116,
      "outputs": [
        {
          "output_type": "stream",
          "text": [
            "2\n"
          ],
          "name": "stdout"
        }
      ]
    },
    {
      "cell_type": "code",
      "metadata": {
        "colab": {
          "base_uri": "https://localhost:8080/"
        },
        "id": "q2yQuPix2bf0",
        "outputId": "b1c4d0d7-e963-4b61-f50e-87a57af39db7"
      },
      "source": [
        "  column"
      ],
      "execution_count": 107,
      "outputs": [
        {
          "output_type": "execute_result",
          "data": {
            "text/plain": [
              "1"
            ]
          },
          "metadata": {
            "tags": []
          },
          "execution_count": 107
        }
      ]
    },
    {
      "cell_type": "code",
      "metadata": {
        "id": "24WJ0oz72cBT"
      },
      "source": [
        ""
      ],
      "execution_count": null,
      "outputs": []
    },
    {
      "cell_type": "markdown",
      "metadata": {
        "id": "PhUWfgjU5gSY"
      },
      "source": [
        "## 3. 게임 개발"
      ]
    },
    {
      "cell_type": "markdown",
      "metadata": {
        "id": "-BDPFB575jOD"
      },
      "source": [
        "### Me"
      ]
    },
    {
      "cell_type": "code",
      "metadata": {
        "colab": {
          "base_uri": "https://localhost:8080/"
        },
        "id": "dSbrtnNr5h-O",
        "outputId": "646c9e87-0514-4d9b-a1ef-39129d6dcf5c"
      },
      "source": [
        "n, m = map(int, input().split())\n",
        "a, b, d = map(int, input().split())\n",
        "x = []\n",
        "for i in range(n):\n",
        "  x.append(list(map(int, input().split())))"
      ],
      "execution_count": 8,
      "outputs": [
        {
          "output_type": "stream",
          "text": [
            "4 4\n",
            "1 1 0\n",
            "1 1 1 1\n",
            "1 0 0 1\n",
            "1 1 0 1\n",
            "1 1 1 1\n"
          ],
          "name": "stdout"
        }
      ]
    },
    {
      "cell_type": "code",
      "metadata": {
        "colab": {
          "base_uri": "https://localhost:8080/"
        },
        "id": "jP8TKbEj5nbb",
        "outputId": "d8f160a3-6d96-4801-b4fb-ffed8e6dbb3a"
      },
      "source": [
        "x"
      ],
      "execution_count": 9,
      "outputs": [
        {
          "output_type": "execute_result",
          "data": {
            "text/plain": [
              "[[1, 1, 1, 1], [1, 0, 0, 1], [1, 1, 0, 1], [1, 1, 1, 1]]"
            ]
          },
          "metadata": {
            "tags": []
          },
          "execution_count": 9
        }
      ]
    },
    {
      "cell_type": "code",
      "metadata": {
        "id": "rtVwwmDp6m6D"
      },
      "source": [
        "for i in x:\n",
        "  if "
      ],
      "execution_count": null,
      "outputs": []
    },
    {
      "cell_type": "markdown",
      "metadata": {
        "id": "cc4wAg9079pi"
      },
      "source": [
        "### 답안 예시"
      ]
    },
    {
      "cell_type": "code",
      "metadata": {
        "colab": {
          "base_uri": "https://localhost:8080/"
        },
        "id": "lwmG36-t7_bI",
        "outputId": "40c99a5e-1ed7-4462-bbb2-de00d8592b87"
      },
      "source": [
        "n, m = map(int, input().split())"
      ],
      "execution_count": 10,
      "outputs": [
        {
          "output_type": "stream",
          "text": [
            "4 4\n"
          ],
          "name": "stdout"
        }
      ]
    },
    {
      "cell_type": "code",
      "metadata": {
        "colab": {
          "base_uri": "https://localhost:8080/"
        },
        "id": "PDzlG1h58Gj2",
        "outputId": "e3aacbc1-737a-4880-fd7d-0d10e3a8c2c8"
      },
      "source": [
        "d = [[0] * m for _ in range(n)]\n",
        "\n",
        "x,y, direction = map(int ,input().split())\n",
        "d[x][y] = 1"
      ],
      "execution_count": 11,
      "outputs": [
        {
          "output_type": "stream",
          "text": [
            "1 1 0\n"
          ],
          "name": "stdout"
        }
      ]
    },
    {
      "cell_type": "code",
      "metadata": {
        "colab": {
          "base_uri": "https://localhost:8080/"
        },
        "id": "bZ4Oq-0Q8Q4v",
        "outputId": "4fc9adb9-04cd-4fea-e9be-f020187cf412"
      },
      "source": [
        "array = []\n",
        "for i in range(n):\n",
        "  array.append(list(map(int, input().split())))\n"
      ],
      "execution_count": 15,
      "outputs": [
        {
          "output_type": "stream",
          "text": [
            "1 1 1 1\n",
            "1 0 0 1\n",
            "1 1 0 1\n",
            "1 1 1 1\n"
          ],
          "name": "stdout"
        }
      ]
    },
    {
      "cell_type": "code",
      "metadata": {
        "colab": {
          "base_uri": "https://localhost:8080/"
        },
        "id": "6Z_wFoE78dfJ",
        "outputId": "b0fd6f60-43a0-4d2b-f86e-0cd37773d620"
      },
      "source": [
        "array"
      ],
      "execution_count": 16,
      "outputs": [
        {
          "output_type": "execute_result",
          "data": {
            "text/plain": [
              "[[1, 1, 1, 1], [1, 0, 0, 1], [1, 1, 0, 1], [1, 1, 1, 1]]"
            ]
          },
          "metadata": {
            "tags": []
          },
          "execution_count": 16
        }
      ]
    },
    {
      "cell_type": "code",
      "metadata": {
        "id": "mxRGVc108snK"
      },
      "source": [
        "dx = [-1,0,1,0]\n",
        "dy = [0,1,0,-1]"
      ],
      "execution_count": 17,
      "outputs": []
    },
    {
      "cell_type": "code",
      "metadata": {
        "id": "c5pxZ_Di8v8d"
      },
      "source": [
        "def turn_left():\n",
        "  global direction\n",
        "  direction -= 1\n",
        "  if direction == -1:\n",
        "    direction = 3"
      ],
      "execution_count": 18,
      "outputs": []
    },
    {
      "cell_type": "code",
      "metadata": {
        "colab": {
          "base_uri": "https://localhost:8080/"
        },
        "id": "S3vvDGGD84bB",
        "outputId": "6c1d69b4-3d4e-439b-c401-7f6f31cdbcc8"
      },
      "source": [
        "count = 1\n",
        "turn_time = 0\n",
        "while True:\n",
        "  turn_left()\n",
        "  nx = x + dx[direction]\n",
        "  ny = y + dy[direction]\n",
        "\n",
        "  if d[nx][ny] == 0 and array[nx][ny] == 0:\n",
        "    d[nx][ny] = 1\n",
        "    x = nx\n",
        "    y = ny\n",
        "    count += 1\n",
        "    turn_time = 0\n",
        "    continue\n",
        "  else:\n",
        "    turn_time += 1\n",
        "  \n",
        "  if turn_time == 4:\n",
        "    nx = x - dx[direction]\n",
        "    ny = y - dy[direction]\n",
        "\n",
        "    if array[nx][ny] == 0:\n",
        "      x = nx\n",
        "      y = ny\n",
        "    else:\n",
        "      break\n",
        "    turn_time = 0\n",
        "\n",
        "print(count)"
      ],
      "execution_count": 19,
      "outputs": [
        {
          "output_type": "stream",
          "text": [
            "3\n"
          ],
          "name": "stdout"
        }
      ]
    },
    {
      "cell_type": "code",
      "metadata": {
        "id": "X4tsJIAf9dkI"
      },
      "source": [
        ""
      ],
      "execution_count": null,
      "outputs": []
    }
  ]
}
