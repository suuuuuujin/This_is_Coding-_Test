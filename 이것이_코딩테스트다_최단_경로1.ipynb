{
  "nbformat": 4,
  "nbformat_minor": 0,
  "metadata": {
    "colab": {
      "name": "이것이 코딩테스트다_최단 경로.ipynb",
      "provenance": [],
      "collapsed_sections": [],
      "authorship_tag": "ABX9TyNnE0GSIB0AFanMV/068iOS",
      "include_colab_link": true
    },
    "kernelspec": {
      "name": "python3",
      "display_name": "Python 3"
    },
    "language_info": {
      "name": "python"
    }
  },
  "cells": [
    {
      "cell_type": "markdown",
      "metadata": {
        "id": "view-in-github",
        "colab_type": "text"
      },
      "source": [
        "<a href=\"https://colab.research.google.com/github/suuuuuujin/This_is_Coding_Test/blob/main/%EC%9D%B4%EA%B2%83%EC%9D%B4_%EC%BD%94%EB%94%A9%ED%85%8C%EC%8A%A4%ED%8A%B8%EB%8B%A4_%EC%B5%9C%EB%8B%A8_%EA%B2%BD%EB%A1%9C1.ipynb\" target=\"_parent\"><img src=\"https://colab.research.google.com/assets/colab-badge.svg\" alt=\"Open In Colab\"/></a>"
      ]
    },
    {
      "cell_type": "markdown",
      "metadata": {
        "id": "r24VyH4OgtjR"
      },
      "source": [
        "# Chapter 09. 최단경로"
      ]
    },
    {
      "cell_type": "markdown",
      "metadata": {
        "id": "HEe368h0gxUx"
      },
      "source": [
        "## 1. 가장 빠른 길 찾기"
      ]
    },
    {
      "cell_type": "markdown",
      "metadata": {
        "id": "2IUT-UU9gyuS"
      },
      "source": [
        "## 다익스트라 최단 경로 알고리즘"
      ]
    },
    {
      "cell_type": "markdown",
      "metadata": {
        "id": "0PH9yRTNgyjA"
      },
      "source": [
        "### 간단한 다익스트라 알고리즘 소스코드"
      ]
    },
    {
      "cell_type": "code",
      "metadata": {
        "id": "lzxhKFQPghD1"
      },
      "source": [
        "# Colab에서는 sys.stdin.readline()사용 불가\n",
        "\n",
        "# import sys\n",
        "# input = sys.stdin.readline()\n",
        "# n, m = map(int, input().split())"
      ],
      "execution_count": 2,
      "outputs": []
    },
    {
      "cell_type": "code",
      "metadata": {
        "colab": {
          "base_uri": "https://localhost:8080/"
        },
        "id": "nr_Q7TnkgiJY",
        "outputId": "df43c5dc-0a07-49a3-a687-12400f5293ea"
      },
      "source": [
        "import sys\n",
        "#input = sys.stdin.readline()\n",
        "INF = int(1e9) # 무한을 의미하는 값, 10억 상징\n",
        "\n",
        "# n : 노드의 갯수, m : 간선의 갯수\n",
        "n, m = map(int, input().split())\n",
        "start = int(input())                # 시작 노드 번호 입력받기\n",
        "graph = [[] for i in range(n+1)]    # 각 노드에 연결되어 있는 노드에 대한 정보를 담는 리스트\n",
        "visited = [False] * (n+1)           # 방문한 적이 있는지 체크\n",
        "distance = [INF] * (n+1)            # 최단 거리 테이블을 모두 무한으로 초기화\n",
        "\n",
        "\n",
        "# 모든 간선 정보 입력받기\n",
        "for _ in range(m):\n",
        "  a, b, c = map(int, input().split())\n",
        "  graph[a].append((b,c))\n",
        "\n",
        "\n",
        "# 방문하지 않은 노드 중에서, 가장 최단 거리가 짧은 노드의 번호를 반환\n",
        "def get_smallest_node():\n",
        "  min_value = INF  # 아직 방문전이라 최단 거리가 INF\n",
        "  index = 0        # index도 갱신 전\n",
        "  for i in range(1, n+1):\n",
        "    if distance[i] < min_value and not visited[i]:\n",
        "      index = i\n",
        "  return index\n",
        "\n",
        "\n",
        "# 다익스트라 알고리즘 생성\n",
        "def dijkstra(start):\n",
        "  # 시작노드에 대해서 초기화\n",
        "  distance[start] = 0\n",
        "  visited[start] = True\n",
        "  for j in graph[start]:\n",
        "    distance[j[0]] = j[1]\n",
        "  \n",
        "  for i in range(n-1):      # 시작 노드를 제외한 n-1개의 노드에 대해 반복\n",
        "    now = get_smallest_node() # 현재 최단 거리가 가장 짧은 노드 추출\n",
        "    visited[now] = True       # 현재 최단 거리가 가장 짧은 노드 추출해서 방문 처리\n",
        "\n",
        "    for j in graph[now]:            # 현재 노드와 연결된 다른 노드를 확인\n",
        "      cost = distance[now] + j[1]\n",
        "      if cost < distance[j[0]]:     # 현재 노드를 거쳐서 다른 노드로 이동하는 거리가 더 짧은 경우\n",
        "        distance[j[0]] = cost\n",
        "\n",
        "\n",
        "dijkstra(start)\n",
        "\n",
        "\n",
        "# 모든 노드로 가기 위한 최단 거리 출력\n",
        "for i in range(1, n+1):\n",
        "  if distance[i] == INF:\n",
        "    print(\"INFINITY\")\n",
        "  else:\n",
        "    print(distance[i])\n"
      ],
      "execution_count": 5,
      "outputs": [
        {
          "output_type": "stream",
          "text": [
            "6 11\n",
            "1\n",
            "1 2 2\n",
            "1 3 5\n",
            "1 4 1\n",
            "2 3 3\n",
            "2 4 2\n",
            "3 2 3\n",
            "3 6 5\n",
            "4 3 3\n",
            "4 5 1\n",
            "5 3 1\n",
            "5 6 2\n",
            "0\n",
            "2\n",
            "3\n",
            "1\n",
            "2\n",
            "4\n"
          ],
          "name": "stdout"
        }
      ]
    },
    {
      "cell_type": "code",
      "metadata": {
        "id": "Ct8u7qi9g6Qu"
      },
      "source": [
        ""
      ],
      "execution_count": null,
      "outputs": []
    },
    {
      "cell_type": "markdown",
      "metadata": {
        "id": "GO8pcn0nh7v0"
      },
      "source": [
        "## 개선된 다익스트라 알고리즘"
      ]
    },
    {
      "cell_type": "markdown",
      "metadata": {
        "id": "Hdda3YovmAQY"
      },
      "source": [
        "### heapq\n",
        "파이썬 힙 = 최소 힙으로 구성"
      ]
    },
    {
      "cell_type": "code",
      "metadata": {
        "colab": {
          "base_uri": "https://localhost:8080/"
        },
        "id": "Pq7hoFjLh9MO",
        "outputId": "18a3adb3-51dc-4cef-f250-2fa016e1a13e"
      },
      "source": [
        "import heapq\n",
        "\n",
        "def heapsort(iterable):\n",
        "  h = []\n",
        "  result = []\n",
        "\n",
        "  for value in iterable:\n",
        "    heapq.heappush(h, value)  # 힙에 원소 삽입\n",
        "\n",
        "  for i in range(len(h)):\n",
        "    result.append(heapq.heappop(h))  # 힙에서 원소 꺼낼 때\n",
        "  return result\n",
        "\n",
        "result = heapsort([1,3,5,7,9,2,4,6,8,0])\n",
        "print(result)"
      ],
      "execution_count": 6,
      "outputs": [
        {
          "output_type": "stream",
          "text": [
            "[0, 1, 2, 3, 4, 5, 6, 7, 8, 9]\n"
          ],
          "name": "stdout"
        }
      ]
    },
    {
      "cell_type": "markdown",
      "metadata": {
        "id": "P4BDll_Tmgmq"
      },
      "source": [
        "최대 힙으로 구현(부호 사용)"
      ]
    },
    {
      "cell_type": "code",
      "metadata": {
        "colab": {
          "base_uri": "https://localhost:8080/"
        },
        "id": "cwuw34zAmXZr",
        "outputId": "3fc194d4-3e58-4f78-caa8-9ad78d4fc52b"
      },
      "source": [
        "import heapq\n",
        "\n",
        "def heapsort(iterable):\n",
        "  h = []\n",
        "  result = []\n",
        "\n",
        "  for value in iterable:\n",
        "    heapq.heappush(h, -value)  # 힙에 원소 삽입\n",
        "\n",
        "  for i in range(len(h)):\n",
        "    result.append(-heapq.heappop(h))  # 힙에서 원소 꺼낼 때\n",
        "  return result\n",
        "\n",
        "result = heapsort([1,3,5,7,9,2,4,6,8,0])\n",
        "print(result)"
      ],
      "execution_count": 7,
      "outputs": [
        {
          "output_type": "stream",
          "text": [
            "[9, 8, 7, 6, 5, 4, 3, 2, 1, 0]\n"
          ],
          "name": "stdout"
        }
      ]
    },
    {
      "cell_type": "markdown",
      "metadata": {
        "id": "MfStcFdDvNVT"
      },
      "source": [
        "### 개선된 다익스트라 알고리즘 소스코드"
      ]
    },
    {
      "cell_type": "code",
      "metadata": {
        "colab": {
          "base_uri": "https://localhost:8080/"
        },
        "id": "jM8L7cY1mruH",
        "outputId": "60514087-7cbb-4160-e8a2-5eca28547706"
      },
      "source": [
        "import heapq\n",
        "#import sys\n",
        "#input = sys.stdin.readline()\n",
        "INF = int(1e9)\n",
        "\n",
        "\n",
        "n,m = map(int, input().split())\n",
        "start = int(input())\n",
        "graph = [[] for i in range(n+1)]\n",
        "distance = [INF] * (n +1)\n",
        "\n",
        "\n",
        "for _ in range(m):\n",
        "  a, b, c = map(int, input().split())\n",
        "  graph[a].append((b,c))\n",
        "\n",
        "\n",
        "def dijkstra(start):\n",
        "  q = []\n",
        "  # 시작 노드로 가기 위한 최단 경로는 0으로 설정하여 큐에 삽입\n",
        "  heapq.heappush(q, (0,start))\n",
        "  distance[start] = 0\n",
        "  while q: # 큐가 비어있지 않으면\n",
        "    dist, now = heapq.heappop(q)    # 가장 최단 거리가 짧은 노드에 대한 정보 꺼내기\n",
        "\n",
        "    if distance[now] < dist :       # 현재 노드가 이미 처리된 적이 있는 노드라면 무시!\n",
        "      continue  \n",
        "    \n",
        "    for i in graph[now]:            # 현재 노드와 연결된 다른 인접한 노드들 확인\n",
        "      cost = dist + i[1]\n",
        "      if cost < distance[i[0]]:      # 현재 노드를 거쳐서 다른 노드로 이동하는 거리가 더 짧은 경우\n",
        "        distance[i[0]] = cost\n",
        "        heapq.heappush(q, (cost, i[0]))\n",
        "\n",
        "dijkstra(start)\n",
        "\n",
        "for i in range(1, n+1):\n",
        "  if distance[i] == INF:\n",
        "    print(\"INFINITY\")\n",
        "  else:\n",
        "    print(distance[i])"
      ],
      "execution_count": 15,
      "outputs": [
        {
          "output_type": "stream",
          "text": [
            "6 11\n",
            "1\n",
            "1 2 2\n",
            "1 3 5\n",
            "1 4 1\n",
            "2 3 3\n",
            "2 4 2\n",
            "3 2 3\n",
            "3 6 5\n",
            "4 3 3\n",
            "4 5 1\n",
            "5 3 1\n",
            "5 6 2\n",
            "0\n",
            "2\n",
            "3\n",
            "1\n",
            "2\n",
            "4\n"
          ],
          "name": "stdout"
        }
      ]
    },
    {
      "cell_type": "code",
      "metadata": {
        "id": "p32puG0Pvdeq"
      },
      "source": [
        "4 3 3 \n",
        "\n"
      ],
      "execution_count": null,
      "outputs": []
    }
  ]
}