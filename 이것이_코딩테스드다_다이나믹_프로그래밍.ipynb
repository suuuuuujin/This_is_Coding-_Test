{
  "nbformat": 4,
  "nbformat_minor": 0,
  "metadata": {
    "colab": {
      "name": "이것이 코딩테스드다_다이나믹 프로그래밍.ipynb",
      "provenance": [],
      "collapsed_sections": [],
      "authorship_tag": "ABX9TyMZg/Zp0XnK1n1NUYmJN6lh",
      "include_colab_link": true
    },
    "kernelspec": {
      "name": "python3",
      "display_name": "Python 3"
    },
    "language_info": {
      "name": "python"
    }
  },
  "cells": [
    {
      "cell_type": "markdown",
      "metadata": {
        "id": "view-in-github",
        "colab_type": "text"
      },
      "source": [
        "<a href=\"https://colab.research.google.com/github/suuuuuujin/This_is_Coding_Test/blob/main/%EC%9D%B4%EA%B2%83%EC%9D%B4_%EC%BD%94%EB%94%A9%ED%85%8C%EC%8A%A4%EB%93%9C%EB%8B%A4_%EB%8B%A4%EC%9D%B4%EB%82%98%EB%AF%B9_%ED%94%84%EB%A1%9C%EA%B7%B8%EB%9E%98%EB%B0%8D.ipynb\" target=\"_parent\"><img src=\"https://colab.research.google.com/assets/colab-badge.svg\" alt=\"Open In Colab\"/></a>"
      ]
    },
    {
      "cell_type": "markdown",
      "metadata": {
        "id": "mrHJeYLZwkAm"
      },
      "source": [
        "# Chapter 08. 다이나믹 프로그래밍"
      ]
    },
    {
      "cell_type": "markdown",
      "metadata": {
        "id": "Tj5-fdXhwqez"
      },
      "source": [
        "## 1. 다이나믹 프로그래밍 = 동적 계획법"
      ]
    },
    {
      "cell_type": "markdown",
      "metadata": {
        "id": "DgrZ_iosyqu4"
      },
      "source": [
        "###  피보나치 함수 소스코드"
      ]
    },
    {
      "cell_type": "code",
      "metadata": {
        "id": "msTxwzg4waup",
        "colab": {
          "base_uri": "https://localhost:8080/"
        },
        "outputId": "3b75eeb9-91e3-4641-f739-6b3321dce515"
      },
      "source": [
        "def fibo(x):\n",
        "  if x == 1 or x == 2:\n",
        "    return 1\n",
        "  return fibo(x-1) + fibo(x-2)\n",
        "\n",
        "print(fibo(4))"
      ],
      "execution_count": null,
      "outputs": [
        {
          "output_type": "stream",
          "text": [
            "3\n"
          ],
          "name": "stdout"
        }
      ]
    },
    {
      "cell_type": "markdown",
      "metadata": {
        "id": "Uc9bMF18zg7F"
      },
      "source": [
        "다이나믹 프로그래밍 조건\n",
        "  - 큰 문제를 작은 문제로 나눌 수 있다.\n",
        "  - 작은 문제에서 구한 정답은 그것을 포함하는 큰 문제에서도 동일하다.\n",
        "\n",
        "메모이제이션 기법 = 캐싱 : 다이나믹 프로그래밍 구현 방법 중 하나로, 한 번 구한 결과를 메모리 공간에 메모해두고 같은 식을 다시 호출하면 메모한 결과를 그대로 가져오는 기법"
      ]
    },
    {
      "cell_type": "markdown",
      "metadata": {
        "id": "vlByXzh_zzd7"
      },
      "source": [
        "### 피보나치 수열 소스코드(재귀적) - 탑다운 방식"
      ]
    },
    {
      "cell_type": "code",
      "metadata": {
        "colab": {
          "base_uri": "https://localhost:8080/"
        },
        "id": "TbkixWDgy8Tl",
        "outputId": "96077903-e37a-46d1-af0c-b755ea3e3ab5"
      },
      "source": [
        "d = [0] * 100   # 메모제이션하기 위한 리스트 초기화\n",
        "\n",
        "# 피보나치 함수를 재귀함수로 구현(탑다운 다이나믹 프로그래밍)\n",
        "def fibo(x):\n",
        "  if x == 1 or x == 2:\n",
        "    return 1\n",
        "  \n",
        "  if d[x] != 0:\n",
        "    return d[x]\n",
        "\n",
        "  d[x] = fibo(x-1) + fibo(x-2)\n",
        "  return d[x]\n",
        "\n",
        "print(fibo(99))"
      ],
      "execution_count": null,
      "outputs": [
        {
          "output_type": "stream",
          "text": [
            "218922995834555169026\n"
          ],
          "name": "stdout"
        }
      ]
    },
    {
      "cell_type": "markdown",
      "metadata": {
        "id": "nBsJ3o5A2C-f"
      },
      "source": [
        "### 호출되는 함수 확인"
      ]
    },
    {
      "cell_type": "code",
      "metadata": {
        "colab": {
          "base_uri": "https://localhost:8080/"
        },
        "id": "kO1xD7Xo2FaJ",
        "outputId": "ebe1d957-4a03-498f-9c8e-eaaf7cca7b89"
      },
      "source": [
        "d = [0] * 100\n",
        "\n",
        "def pibo(x):\n",
        "\n",
        "  print('f(' + str(x) + ')', end=' ')\n",
        "\n",
        "  if x == 1 or x == 2:\n",
        "    return 1\n",
        "  if d[x] != 0:\n",
        "    return d[x]\n",
        "  d[x] = pibo(x-1) + pibo(x-2)\n",
        "  return d[x]\n",
        "\n",
        "pibo(6)"
      ],
      "execution_count": null,
      "outputs": [
        {
          "output_type": "stream",
          "text": [
            "f(6) f(5) f(4) f(3) f(2) f(1) f(2) f(3) f(4) "
          ],
          "name": "stdout"
        },
        {
          "output_type": "execute_result",
          "data": {
            "text/plain": [
              "8"
            ]
          },
          "metadata": {
            "tags": []
          },
          "execution_count": 11
        }
      ]
    },
    {
      "cell_type": "markdown",
      "metadata": {
        "id": "r5X5umMj5LT-"
      },
      "source": [
        "### 피보나치 수열 소스코드(반복적) - 보텀업 방식"
      ]
    },
    {
      "cell_type": "code",
      "metadata": {
        "colab": {
          "base_uri": "https://localhost:8080/"
        },
        "id": "ZJ0D076q2a9P",
        "outputId": "98b188f1-5ef5-4358-f2eb-70627b8c75d6"
      },
      "source": [
        "d = [0] * 100\n",
        "\n",
        "d[1] = 1\n",
        "d[2] = 1\n",
        "n = 99\n",
        "\n",
        "for i in range(3, n+1):\n",
        "  d[i] = d[i-1] + d[i-2]\n",
        "\n",
        "print(d[n])"
      ],
      "execution_count": null,
      "outputs": [
        {
          "output_type": "stream",
          "text": [
            "218922995834555169026\n"
          ],
          "name": "stdout"
        }
      ]
    },
    {
      "cell_type": "code",
      "metadata": {
        "id": "Ii99Jtp05ftX"
      },
      "source": [
        ""
      ],
      "execution_count": null,
      "outputs": []
    },
    {
      "cell_type": "markdown",
      "metadata": {
        "id": "qkYdmgiR8LOQ"
      },
      "source": [
        "## 2. 1로 만들기"
      ]
    },
    {
      "cell_type": "markdown",
      "metadata": {
        "id": "hI5zjCs4_XpK"
      },
      "source": [
        "### Me"
      ]
    },
    {
      "cell_type": "code",
      "metadata": {
        "colab": {
          "base_uri": "https://localhost:8080/"
        },
        "id": "yWesF-wP8MxQ",
        "outputId": "1c1f81cb-4f67-490e-963c-122cd71cc96d"
      },
      "source": [
        "x = int(input())\n",
        "count = 0\n",
        "\n",
        "while x != 1:\n",
        "  if x % 5 == 0:\n",
        "    x /= 5\n",
        "    count += 1\n",
        "  elif x % 5 == 1:\n",
        "    x -= 1\n",
        "    count += 1\n",
        "  elif x % 3 == 0:\n",
        "    x /= 3\n",
        "    count += 1\n",
        "  elif x % 3 == 1:\n",
        "    x -= 1\n",
        "    count += 1\n",
        "  elif x % 2 == 0:\n",
        "    x /= 2\n",
        "    count += 1\n",
        "  else:\n",
        "    x -= 1\n",
        "    count += 1\n",
        "\n",
        "print(count)"
      ],
      "execution_count": null,
      "outputs": [
        {
          "output_type": "stream",
          "text": [
            "26\n",
            "3\n"
          ],
          "name": "stdout"
        }
      ]
    },
    {
      "cell_type": "markdown",
      "metadata": {
        "id": "AxKps8yZAGlP"
      },
      "source": [
        "### 답안 예시(다이나믹 프로그래밍 진행, 보텀업)"
      ]
    },
    {
      "cell_type": "code",
      "metadata": {
        "colab": {
          "base_uri": "https://localhost:8080/"
        },
        "id": "j-ndQNSbAH4j",
        "outputId": "9dc35001-7301-4c49-e574-53996dee3af9"
      },
      "source": [
        "x = int(input())\n",
        "\n",
        "d = [0] * 30001\n",
        "\n",
        "for i in range(2, x+1):\n",
        "  d[i] = d[i-1] + 1\n",
        "  if i % 2 == 0:\n",
        "    d[i] = min(d[i], d[i//2] + 1)\n",
        "  if i % 3 == 0:\n",
        "    d[i] = min(d[i], d[i//3] + 1)\n",
        "  if i % 5 == 0:\n",
        "    d[i] = min(d[i], d[i//5] + 1)\n",
        "\n",
        "  \n",
        "print(d[x])"
      ],
      "execution_count": null,
      "outputs": [
        {
          "output_type": "stream",
          "text": [
            "26\n",
            "3\n"
          ],
          "name": "stdout"
        }
      ]
    },
    {
      "cell_type": "code",
      "metadata": {
        "id": "P1dYy7kcAkx_"
      },
      "source": [
        ""
      ],
      "execution_count": null,
      "outputs": []
    },
    {
      "cell_type": "markdown",
      "metadata": {
        "id": "jq3k3uQoA-nw"
      },
      "source": [
        "## 3. 개미 전사"
      ]
    },
    {
      "cell_type": "markdown",
      "metadata": {
        "id": "V7h_ZlvlFhb0"
      },
      "source": [
        "### Me - 못풀"
      ]
    },
    {
      "cell_type": "code",
      "metadata": {
        "colab": {
          "base_uri": "https://localhost:8080/"
        },
        "id": "IfR1861lA_vj",
        "outputId": "f80c3946-be9d-4d31-c760-d4ad44f40df6"
      },
      "source": [
        "n = int(input())\n",
        "k = list(map(int, input().split()))\n"
      ],
      "execution_count": 1,
      "outputs": [
        {
          "output_type": "stream",
          "text": [
            "4\n",
            "1 3 1 5\n"
          ],
          "name": "stdout"
        }
      ]
    },
    {
      "cell_type": "code",
      "metadata": {
        "id": "TZiD-AzGBGCr"
      },
      "source": [
        "d = [0] * 101\n",
        "\n",
        "for i in range(1, n+1):\n",
        "  d[i] = k[i-1]"
      ],
      "execution_count": 2,
      "outputs": []
    },
    {
      "cell_type": "code",
      "metadata": {
        "id": "C6wJupvXCEGF"
      },
      "source": [
        ""
      ],
      "execution_count": null,
      "outputs": []
    },
    {
      "cell_type": "markdown",
      "metadata": {
        "id": "qsh-BGT8Fsal"
      },
      "source": [
        "### 답안 예시"
      ]
    },
    {
      "cell_type": "code",
      "metadata": {
        "colab": {
          "base_uri": "https://localhost:8080/"
        },
        "id": "LyCUAn6QFtpg",
        "outputId": "be7820ed-6fd3-48c5-9dbc-e6258695d6b4"
      },
      "source": [
        "n = int(input())"
      ],
      "execution_count": 6,
      "outputs": [
        {
          "output_type": "stream",
          "text": [
            "4\n"
          ],
          "name": "stdout"
        }
      ]
    },
    {
      "cell_type": "code",
      "metadata": {
        "colab": {
          "base_uri": "https://localhost:8080/"
        },
        "id": "Nb-bR7xZFvM4",
        "outputId": "000465b4-0cf3-4f42-d5cd-ba0d67601f10"
      },
      "source": [
        "array = list(map(int, input().split()))"
      ],
      "execution_count": 8,
      "outputs": [
        {
          "output_type": "stream",
          "text": [
            "1 3 1 5\n"
          ],
          "name": "stdout"
        }
      ]
    },
    {
      "cell_type": "code",
      "metadata": {
        "colab": {
          "base_uri": "https://localhost:8080/"
        },
        "id": "oTsJzQDKFzEF",
        "outputId": "f3b88177-337c-4777-d152-699203d11e58"
      },
      "source": [
        "d = [0] * 100\n",
        "\n",
        "d[0] = array[0]\n",
        "d[1] = max(array[0], array[1])\n",
        "for i in range(2,n):\n",
        "  d[i] = max(d[i-1], d[i-2] + array[i])\n",
        "\n",
        "print(d[n-1])"
      ],
      "execution_count": 9,
      "outputs": [
        {
          "output_type": "stream",
          "text": [
            "8\n"
          ],
          "name": "stdout"
        }
      ]
    },
    {
      "cell_type": "code",
      "metadata": {
        "id": "sUuwwHm9GDVz"
      },
      "source": [
        ""
      ],
      "execution_count": null,
      "outputs": []
    }
  ]
}