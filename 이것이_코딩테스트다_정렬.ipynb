{
  "nbformat": 4,
  "nbformat_minor": 0,
  "metadata": {
    "colab": {
      "name": "이것이 코딩테스트다_정렬.ipynb",
      "provenance": [],
      "collapsed_sections": [],
      "authorship_tag": "ABX9TyO8eDCyE7fEQ2o6iDDOnFGD",
      "include_colab_link": true
    },
    "kernelspec": {
      "name": "python3",
      "display_name": "Python 3"
    },
    "language_info": {
      "name": "python"
    }
  },
  "cells": [
    {
      "cell_type": "markdown",
      "metadata": {
        "id": "view-in-github",
        "colab_type": "text"
      },
      "source": [
        "<a href=\"https://colab.research.google.com/github/suuuuuujin/This_is_Coding_Test/blob/main/%EC%9D%B4%EA%B2%83%EC%9D%B4_%EC%BD%94%EB%94%A9%ED%85%8C%EC%8A%A4%ED%8A%B8%EB%8B%A4_%EC%A0%95%EB%A0%AC.ipynb\" target=\"_parent\"><img src=\"https://colab.research.google.com/assets/colab-badge.svg\" alt=\"Open In Colab\"/></a>"
      ]
    },
    {
      "cell_type": "markdown",
      "metadata": {
        "id": "zEAm82sphYrh"
      },
      "source": [
        "# Chapter 6. 정렬"
      ]
    },
    {
      "cell_type": "markdown",
      "metadata": {
        "id": "6MTPzqphhizU"
      },
      "source": [
        "## 1. 기준에 따라 데이터를 정렬"
      ]
    },
    {
      "cell_type": "markdown",
      "metadata": {
        "id": "U43YQ3CUjcLq"
      },
      "source": [
        "## 선택 정렬(Selection Sort)"
      ]
    },
    {
      "cell_type": "markdown",
      "metadata": {
        "id": "S7NZ6zKKjtVb"
      },
      "source": [
        "### 선택 정렬 소스코드"
      ]
    },
    {
      "cell_type": "code",
      "metadata": {
        "colab": {
          "base_uri": "https://localhost:8080/"
        },
        "id": "qQkk4hBDhVKg",
        "outputId": "0aefc8b0-1829-4a65-ff93-fb13d3b51be0"
      },
      "source": [
        "array = [7,5,9,0,3,1,6,2,4,8]\n",
        "\n",
        "for i in range(len(array)):\n",
        "  min_index = i \n",
        "  for j in range(i+1, len(array)):\n",
        "    if array[min_index] > array[j]:\n",
        "      min_index = j\n",
        "  array[i], array[min_index] = array[min_index], array[i]\n",
        "\n",
        "print(array)"
      ],
      "execution_count": null,
      "outputs": [
        {
          "output_type": "stream",
          "text": [
            "[0, 1, 2, 3, 4, 5, 6, 7, 8, 9]\n"
          ],
          "name": "stdout"
        }
      ]
    },
    {
      "cell_type": "markdown",
      "metadata": {
        "id": "JgJbDw3bkvIM"
      },
      "source": [
        "### 파이썬 스와프 소스코드"
      ]
    },
    {
      "cell_type": "code",
      "metadata": {
        "colab": {
          "base_uri": "https://localhost:8080/"
        },
        "id": "dGhV5AlEjy3P",
        "outputId": "232d53cc-ef9c-42e0-d733-f11032b5d297"
      },
      "source": [
        "array = [3,5]\n",
        "array[0], array[1] = array[1], array[0]\n",
        "\n",
        "print(array)"
      ],
      "execution_count": null,
      "outputs": [
        {
          "output_type": "stream",
          "text": [
            "[5, 3]\n"
          ],
          "name": "stdout"
        }
      ]
    },
    {
      "cell_type": "code",
      "metadata": {
        "id": "guuKg-GGlBiO"
      },
      "source": [
        ""
      ],
      "execution_count": null,
      "outputs": []
    },
    {
      "cell_type": "markdown",
      "metadata": {
        "id": "ybwAqFzgnNH5"
      },
      "source": [
        "## 삽입 정렬(Insertion Sort)"
      ]
    },
    {
      "cell_type": "markdown",
      "metadata": {
        "id": "3qnJZ4epoDSg"
      },
      "source": [
        "### 삽입 정렬 소스코드"
      ]
    },
    {
      "cell_type": "code",
      "metadata": {
        "colab": {
          "base_uri": "https://localhost:8080/"
        },
        "id": "ns4GiGMxnOfF",
        "outputId": "f0a7bd6b-93d2-4d20-91e9-4eb449cdecc6"
      },
      "source": [
        "array = [7,5,9,0,3,1,6,2,4,8]\n",
        "\n",
        "for i in range(1, len(array)):\n",
        "  for j in range(i, 0, -1):\n",
        "    if array[j] < array[j-1]:\n",
        "      array[j], array[j-1] = array[j-1],array[j]\n",
        "    else:\n",
        "      break\n",
        "\n",
        "print(array)"
      ],
      "execution_count": null,
      "outputs": [
        {
          "output_type": "stream",
          "text": [
            "[0, 1, 2, 3, 4, 5, 6, 7, 8, 9]\n"
          ],
          "name": "stdout"
        }
      ]
    },
    {
      "cell_type": "code",
      "metadata": {
        "id": "_YXpHRymsETx"
      },
      "source": [
        ""
      ],
      "execution_count": null,
      "outputs": []
    },
    {
      "cell_type": "markdown",
      "metadata": {
        "id": "f4zTDr5Qs2bM"
      },
      "source": [
        "## 퀵 정렬\n",
        "  피벗(기준) 설정과 리스트 분할 방법에 따라 여러 가지 방식 \n",
        "  /호어 분할 방식 - 리스트에서 첫 번째 데이터를 피벗으로 정한다."
      ]
    },
    {
      "cell_type": "code",
      "metadata": {
        "colab": {
          "base_uri": "https://localhost:8080/"
        },
        "id": "VjBxjlYfs4jH",
        "outputId": "93a7ea43-edf7-4f0e-ca17-68d31ec58e5c"
      },
      "source": [
        "array = [5,7,9,0,3,1,6,2,4,8]\n",
        "\n",
        "def quick_sort(array, start, end):\n",
        "  if start >= end:\n",
        "    return\n",
        "  pivot = start\n",
        "  left = start + 1\n",
        "  right = end\n",
        "  while left <= right:\n",
        "    while left <= end and array[left] <= array[pivot]:\n",
        "      left += 1\n",
        "    while right > start and array[right] >=  array[pivot]:\n",
        "      right -= 1\n",
        "    if left > right:\n",
        "      array[right], array[pivot] = array[pivot], array[right]\n",
        "    else:\n",
        "      array[left], array[right] = array[right], array[left]\n",
        "\n",
        "  quick_sort(array, start, right-1)\n",
        "  quick_sort(array, right+1, end)\n",
        "\n",
        "quick_sort(array, 0, len(array)-1)\n",
        "print(array)"
      ],
      "execution_count": null,
      "outputs": [
        {
          "output_type": "stream",
          "text": [
            "[0, 1, 2, 3, 4, 5, 6, 7, 8, 9]\n"
          ],
          "name": "stdout"
        }
      ]
    },
    {
      "cell_type": "code",
      "metadata": {
        "id": "Q22YaNeD1P-g"
      },
      "source": [
        ""
      ],
      "execution_count": null,
      "outputs": []
    },
    {
      "cell_type": "markdown",
      "metadata": {
        "id": "fJY9og7D4qqo"
      },
      "source": [
        "### 파이썬의 장점을 살린 퀵 정렬 소스코드"
      ]
    },
    {
      "cell_type": "code",
      "metadata": {
        "colab": {
          "base_uri": "https://localhost:8080/"
        },
        "id": "ENZOCV224tK0",
        "outputId": "01973140-d919-420f-fb77-6f4b5ac1d745"
      },
      "source": [
        "array = [5,7,9,0,3,1,6,2,4,8]\n",
        "\n",
        "def quick_sort(array):\n",
        "  if len(array) <= 1:\n",
        "    return array\n",
        "  \n",
        "  pivot = array[0]\n",
        "  tail = array[1:]\n",
        "\n",
        "  left_side = [x for x in tail if x <= pivot]\n",
        "  right_side = [x for x in tail if x > pivot]\n",
        "\n",
        "  return quick_sort(left_side) + [pivot] + quick_sort(right_side)\n",
        "\n",
        "print(quick_sort(array))"
      ],
      "execution_count": null,
      "outputs": [
        {
          "output_type": "stream",
          "text": [
            "[0, 1, 2, 3, 4, 5, 6, 7, 8, 9]\n"
          ],
          "name": "stdout"
        }
      ]
    },
    {
      "cell_type": "code",
      "metadata": {
        "id": "Bbu2tYNx419U"
      },
      "source": [
        ""
      ],
      "execution_count": null,
      "outputs": []
    },
    {
      "cell_type": "code",
      "metadata": {
        "id": "sAtW6cbZ4us-"
      },
      "source": [
        ""
      ],
      "execution_count": null,
      "outputs": []
    },
    {
      "cell_type": "markdown",
      "metadata": {
        "id": "MnT3FBOw6zpm"
      },
      "source": [
        "## 계수 정렬(Count Sort)"
      ]
    },
    {
      "cell_type": "markdown",
      "metadata": {
        "id": "UM4iR-xc8b0X"
      },
      "source": [
        "### 계수 정렬 소스코드"
      ]
    },
    {
      "cell_type": "code",
      "metadata": {
        "colab": {
          "base_uri": "https://localhost:8080/"
        },
        "id": "pj4J_cpB60hv",
        "outputId": "71c85028-f488-4934-9bb9-6f90d18b2352"
      },
      "source": [
        "array = [7,5,9,0,3,1,6,2,9,1,4,8,0,5,2]\n",
        "\n",
        "count = [0] * (max(array) + 1)\n",
        "\n",
        "for i in range(len(array)):\n",
        "  count[array[i]] += 1\n",
        "\n",
        "for i in range(len(count)):\n",
        "  for j in range(count[i]):\n",
        "    print(i, end=' ')"
      ],
      "execution_count": null,
      "outputs": [
        {
          "output_type": "stream",
          "text": [
            "0 0 1 1 2 2 3 4 5 5 6 7 8 9 9 "
          ],
          "name": "stdout"
        }
      ]
    },
    {
      "cell_type": "code",
      "metadata": {
        "id": "uw6-HzP98m6c"
      },
      "source": [
        ""
      ],
      "execution_count": null,
      "outputs": []
    },
    {
      "cell_type": "markdown",
      "metadata": {
        "id": "BOos4D9L_Quf"
      },
      "source": [
        "### sorted 소스코드"
      ]
    },
    {
      "cell_type": "code",
      "metadata": {
        "colab": {
          "base_uri": "https://localhost:8080/"
        },
        "id": "j9Z4HZvK_STe",
        "outputId": "5e8b66fb-729d-4c54-fb9d-8303c0083e84"
      },
      "source": [
        "array = [7,5,9,0,3,1,6,2,4,8]\n",
        "\n",
        "result = sorted(array)\n",
        "print(result)"
      ],
      "execution_count": null,
      "outputs": [
        {
          "output_type": "stream",
          "text": [
            "[0, 1, 2, 3, 4, 5, 6, 7, 8, 9]\n"
          ],
          "name": "stdout"
        }
      ]
    },
    {
      "cell_type": "markdown",
      "metadata": {
        "id": "3VEf5CAM_gLD"
      },
      "source": [
        "### sort() 소스코드"
      ]
    },
    {
      "cell_type": "code",
      "metadata": {
        "colab": {
          "base_uri": "https://localhost:8080/"
        },
        "id": "HqUmtx9d_iYW",
        "outputId": "bdcb617e-985a-4054-bfcb-6638737c3f0a"
      },
      "source": [
        "array = [7,5,9,0,3,1,6,2,4,8]\n",
        "\n",
        "array.sort()\n",
        "print(array)"
      ],
      "execution_count": null,
      "outputs": [
        {
          "output_type": "stream",
          "text": [
            "[0, 1, 2, 3, 4, 5, 6, 7, 8, 9]\n"
          ],
          "name": "stdout"
        }
      ]
    },
    {
      "cell_type": "markdown",
      "metadata": {
        "id": "86eilwg5_vQv"
      },
      "source": [
        "### 정렬 라이브러리에서 key를 활용한 소스코드"
      ]
    },
    {
      "cell_type": "code",
      "metadata": {
        "colab": {
          "base_uri": "https://localhost:8080/"
        },
        "id": "_X327_Qb_xbl",
        "outputId": "d9b70a53-79c0-4476-a827-397a2d691f9f"
      },
      "source": [
        "array = [('바나나',2), ('사과',5), ('당근',3)]\n",
        "\n",
        "def setting(data):\n",
        "  return data[1]\n",
        "\n",
        "result = sorted(array, key = setting)\n",
        "print(result)"
      ],
      "execution_count": null,
      "outputs": [
        {
          "output_type": "stream",
          "text": [
            "[('바나나', 2), ('당근', 3), ('사과', 5)]\n"
          ],
          "name": "stdout"
        }
      ]
    },
    {
      "cell_type": "code",
      "metadata": {
        "colab": {
          "base_uri": "https://localhost:8080/"
        },
        "id": "V0SqRfGIBM87",
        "outputId": "93dcebae-00b3-4fde-dd2a-56cacb0352cd"
      },
      "source": [
        "array = [('바나나',2), ('사과',5), ('당근',3)]\n",
        "\n",
        "def setting(data):\n",
        "  return data[0]\n",
        "\n",
        "result = sorted(array, key = setting)\n",
        "print(result)"
      ],
      "execution_count": null,
      "outputs": [
        {
          "output_type": "stream",
          "text": [
            "[('당근', 3), ('바나나', 2), ('사과', 5)]\n"
          ],
          "name": "stdout"
        }
      ]
    },
    {
      "cell_type": "code",
      "metadata": {
        "colab": {
          "base_uri": "https://localhost:8080/"
        },
        "id": "_NFMkxMNAMA7",
        "outputId": "6f14f8f2-7f78-41ad-b260-c48b55e278d8"
      },
      "source": [
        "array = [('바나나',2), ('사과',5), ('당근',3)]\n",
        "\n",
        "array[1]"
      ],
      "execution_count": null,
      "outputs": [
        {
          "output_type": "execute_result",
          "data": {
            "text/plain": [
              "('사과', 5)"
            ]
          },
          "metadata": {
            "tags": []
          },
          "execution_count": 6
        }
      ]
    },
    {
      "cell_type": "code",
      "metadata": {
        "colab": {
          "base_uri": "https://localhost:8080/"
        },
        "id": "FGPF-MsQMiWi",
        "outputId": "6bb5d819-4ce5-4832-966f-6677a56af04f"
      },
      "source": [
        "array = [('바나나',2), ('사과',5), ('당근',3)]\n",
        "\n",
        "result = sorted(array, key=lambda fruit: fruit[1])\n",
        "print(result)"
      ],
      "execution_count": null,
      "outputs": [
        {
          "output_type": "stream",
          "text": [
            "[('바나나', 2), ('당근', 3), ('사과', 5)]\n"
          ],
          "name": "stdout"
        }
      ]
    },
    {
      "cell_type": "markdown",
      "metadata": {
        "id": "uafALJGPEVxe"
      },
      "source": [
        "## 2. 위에서 아래로"
      ]
    },
    {
      "cell_type": "markdown",
      "metadata": {
        "id": "CnE3qI9SFeiU"
      },
      "source": [
        "### Me"
      ]
    },
    {
      "cell_type": "code",
      "metadata": {
        "colab": {
          "base_uri": "https://localhost:8080/"
        },
        "id": "cj6uJ8ymEfH6",
        "outputId": "72df3659-3edf-4e36-b3dc-59915c9e92ce"
      },
      "source": [
        "count = int(input())\n",
        "\n",
        "num = []\n",
        "\n",
        "for i in range(count):\n",
        "  num.append(int( input()))\n",
        "\n",
        "num.sort(reverse=True)\n",
        "print(num)"
      ],
      "execution_count": null,
      "outputs": [
        {
          "output_type": "stream",
          "text": [
            "3\n",
            "15\n",
            "27\n",
            "12\n",
            "[27, 15, 12]\n"
          ],
          "name": "stdout"
        }
      ]
    },
    {
      "cell_type": "markdown",
      "metadata": {
        "id": "bTT9tBycFeEH"
      },
      "source": [
        "### 답안 예시"
      ]
    },
    {
      "cell_type": "code",
      "metadata": {
        "colab": {
          "base_uri": "https://localhost:8080/"
        },
        "id": "qHNUp21KFhz8",
        "outputId": "7f5b067d-b2cb-4aa3-cb66-922a5a9f4e70"
      },
      "source": [
        "n = int(input())\n",
        "\n",
        "array = []\n",
        "for i in range(n):\n",
        "  array.append(int(input()))\n",
        "\n",
        "array = sorted(array, reverse=True)\n",
        "\n",
        "for i in array:\n",
        "  print(i, end=' ')"
      ],
      "execution_count": null,
      "outputs": [
        {
          "output_type": "stream",
          "text": [
            "3 \n",
            "15\n",
            "27\n",
            "12\n",
            "27 15 12 "
          ],
          "name": "stdout"
        }
      ]
    },
    {
      "cell_type": "code",
      "metadata": {
        "colab": {
          "base_uri": "https://localhost:8080/"
        },
        "id": "OBMhS5hUF8Bt",
        "outputId": "d1010ae0-3ad4-429c-876a-bcb897c0556b"
      },
      "source": [
        "array"
      ],
      "execution_count": null,
      "outputs": [
        {
          "output_type": "execute_result",
          "data": {
            "text/plain": [
              "[27, 15, 12]"
            ]
          },
          "metadata": {
            "tags": []
          },
          "execution_count": 21
        }
      ]
    },
    {
      "cell_type": "code",
      "metadata": {
        "id": "TXYvml_1F7eu"
      },
      "source": [
        ""
      ],
      "execution_count": null,
      "outputs": []
    },
    {
      "cell_type": "markdown",
      "metadata": {
        "id": "EJVXEnPIInBo"
      },
      "source": [
        "## 3. 성적이 낮은 순서로 학생 출력하기"
      ]
    },
    {
      "cell_type": "markdown",
      "metadata": {
        "id": "VWI9Rz5vJDK7"
      },
      "source": [
        "### Me"
      ]
    },
    {
      "cell_type": "code",
      "metadata": {
        "colab": {
          "base_uri": "https://localhost:8080/"
        },
        "id": "ASSKfy-ZIo-o",
        "outputId": "d850b770-b4ff-4cd1-fe89-0fc5fb560224"
      },
      "source": [
        "n = int(input())\n",
        "\n",
        "grade = []\n",
        "\n",
        "for i in range(n):\n",
        "  grade.append(input().split())"
      ],
      "execution_count": null,
      "outputs": [
        {
          "output_type": "stream",
          "text": [
            "5\n",
            "a 72\n",
            "b 99\n",
            "c 61\n",
            "d 83\n",
            "e 40\n"
          ],
          "name": "stdout"
        }
      ]
    },
    {
      "cell_type": "code",
      "metadata": {
        "colab": {
          "base_uri": "https://localhost:8080/"
        },
        "id": "IoqxeVuFJBx2",
        "outputId": "9eeb9cf5-cddb-4288-e5da-c7f331499b0d"
      },
      "source": [
        "grade"
      ],
      "execution_count": null,
      "outputs": [
        {
          "output_type": "execute_result",
          "data": {
            "text/plain": [
              "[['a', '72'], ['b', '99'], ['c', '61'], ['d', '83'], ['e', '40']]"
            ]
          },
          "metadata": {
            "tags": []
          },
          "execution_count": 50
        }
      ]
    },
    {
      "cell_type": "code",
      "metadata": {
        "colab": {
          "base_uri": "https://localhost:8080/"
        },
        "id": "6hhfBdIhJYa1",
        "outputId": "a53655a9-8e42-43f2-cca6-33935f2bdab3"
      },
      "source": [
        "len(grade)"
      ],
      "execution_count": null,
      "outputs": [
        {
          "output_type": "execute_result",
          "data": {
            "text/plain": [
              "5"
            ]
          },
          "metadata": {
            "tags": []
          },
          "execution_count": 51
        }
      ]
    },
    {
      "cell_type": "code",
      "metadata": {
        "colab": {
          "base_uri": "https://localhost:8080/"
        },
        "id": "eo4-iV8qJW-S",
        "outputId": "8900faf7-9bb5-4245-bd2d-c59a3f4209d0"
      },
      "source": [
        "def setting(data):\n",
        "  return data[1]\n",
        "\n",
        "grade.sort(key=setting)\n",
        "\n",
        "for i in range(len(grade)):\n",
        "  print(grade[i][0], end=' ')"
      ],
      "execution_count": null,
      "outputs": [
        {
          "output_type": "stream",
          "text": [
            "e c a d b "
          ],
          "name": "stdout"
        }
      ]
    },
    {
      "cell_type": "code",
      "metadata": {
        "id": "_ulhmrTfJW48"
      },
      "source": [
        ""
      ],
      "execution_count": null,
      "outputs": []
    },
    {
      "cell_type": "markdown",
      "metadata": {
        "id": "JGYOsJR5KR9_"
      },
      "source": [
        "### 답안 예시"
      ]
    },
    {
      "cell_type": "code",
      "metadata": {
        "colab": {
          "base_uri": "https://localhost:8080/"
        },
        "id": "gzNQmiFLKUfq",
        "outputId": "b212900f-101b-4fe3-875b-c60cb94964b0"
      },
      "source": [
        "n = int(input())\n",
        "\n",
        "array = []\n",
        "for i in range(n):\n",
        "  input_data = input().split()\n",
        "  array.append((input_data[0], int(input_data[1])))  #문자열이랑 정수형 같이 input이니까, 받은 이후에 따로따로 append"
      ],
      "execution_count": null,
      "outputs": [
        {
          "output_type": "stream",
          "text": [
            "2\n",
            "홍길동 95\n",
            "이순신 77\n"
          ],
          "name": "stdout"
        }
      ]
    },
    {
      "cell_type": "code",
      "metadata": {
        "colab": {
          "base_uri": "https://localhost:8080/"
        },
        "id": "w2GXFM_KLH9j",
        "outputId": "956fd42a-700b-462c-904d-719da1af8b56"
      },
      "source": [
        "array"
      ],
      "execution_count": null,
      "outputs": [
        {
          "output_type": "execute_result",
          "data": {
            "text/plain": [
              "[('홍길동', 95), ('이순신', 77)]"
            ]
          },
          "metadata": {
            "tags": []
          },
          "execution_count": 41
        }
      ]
    },
    {
      "cell_type": "code",
      "metadata": {
        "colab": {
          "base_uri": "https://localhost:8080/"
        },
        "id": "RsGI4i_xLH3h",
        "outputId": "3ba3ea7e-973d-4c41-d49f-0d3d33271f19"
      },
      "source": [
        "array = sorted(array, key = lambda student: student[1])\n",
        "\n",
        "for student in array:\n",
        "  print(student[0], end=' ')"
      ],
      "execution_count": null,
      "outputs": [
        {
          "output_type": "stream",
          "text": [
            "이순신 홍길동 "
          ],
          "name": "stdout"
        }
      ]
    },
    {
      "cell_type": "markdown",
      "metadata": {
        "id": "1B5Hi0CYM9ES"
      },
      "source": [
        "## 4. 두 배열의 원소 교체"
      ]
    },
    {
      "cell_type": "markdown",
      "metadata": {
        "id": "VMTX4BJ2Revz"
      },
      "source": [
        "### Me"
      ]
    },
    {
      "cell_type": "code",
      "metadata": {
        "colab": {
          "base_uri": "https://localhost:8080/"
        },
        "id": "LxvFZbawM_KQ",
        "outputId": "0a781cd9-e3f5-420f-9c32-9a3df81fef2c"
      },
      "source": [
        "n, k = map(int,input().split())\n",
        "\n",
        "a = list(map(int,input().split()))\n",
        "b = list(map(int,input().split()))"
      ],
      "execution_count": 65,
      "outputs": [
        {
          "output_type": "stream",
          "text": [
            "5 3\n",
            "1 2 5 4 3\n",
            "5 5 6 6 5\n"
          ],
          "name": "stdout"
        }
      ]
    },
    {
      "cell_type": "code",
      "metadata": {
        "colab": {
          "base_uri": "https://localhost:8080/"
        },
        "id": "VTyEUvS-PVVL",
        "outputId": "7ac56627-fba4-4633-d24b-bef602ab270e"
      },
      "source": [
        "print(a)\n",
        "print(b)"
      ],
      "execution_count": 66,
      "outputs": [
        {
          "output_type": "stream",
          "text": [
            "[1, 2, 5, 4, 3]\n",
            "[5, 5, 6, 6, 5]\n"
          ],
          "name": "stdout"
        }
      ]
    },
    {
      "cell_type": "code",
      "metadata": {
        "colab": {
          "base_uri": "https://localhost:8080/"
        },
        "id": "OxCwLFxMPVTb",
        "outputId": "b0d9bd07-6e7f-4ac3-bfcd-17f1e692ac04"
      },
      "source": [
        "a.sort()\n",
        "b.sort(reverse=True)\n",
        "\n",
        "count = 0\n",
        "\n",
        "for i in range(n):\n",
        "  if count == k:\n",
        "    break\n",
        "  if a[i] < b[i]:\n",
        "    a[i], b[i] = b[i], a[i]\n",
        "    count += 1\n",
        "  else:\n",
        "    continue\n",
        "\n",
        "print(sum(a))"
      ],
      "execution_count": 67,
      "outputs": [
        {
          "output_type": "stream",
          "text": [
            "26\n"
          ],
          "name": "stdout"
        }
      ]
    },
    {
      "cell_type": "code",
      "metadata": {
        "id": "mVEqm_ymPVRU",
        "colab": {
          "base_uri": "https://localhost:8080/"
        },
        "outputId": "7cbbbce9-085c-4405-9e13-e1965cdbc6d3"
      },
      "source": [
        "print(a)\n",
        "print(b)"
      ],
      "execution_count": 68,
      "outputs": [
        {
          "output_type": "stream",
          "text": [
            "[6, 6, 5, 4, 5]\n",
            "[1, 2, 3, 5, 5]\n"
          ],
          "name": "stdout"
        }
      ]
    },
    {
      "cell_type": "code",
      "metadata": {
        "id": "G8Wxspq8PVOu"
      },
      "source": [
        ""
      ],
      "execution_count": null,
      "outputs": []
    },
    {
      "cell_type": "markdown",
      "metadata": {
        "id": "6Gmv6PziRgT6"
      },
      "source": [
        "### 답안 예시"
      ]
    },
    {
      "cell_type": "code",
      "metadata": {
        "id": "qKt2pBPtPVK8",
        "colab": {
          "base_uri": "https://localhost:8080/"
        },
        "outputId": "dfdfed35-54ea-4e0e-a60e-3f8360265c6a"
      },
      "source": [
        "n, k = map(int, input().split())\n",
        "a = list(map(int, input().split()))\n",
        "b = list(map(int, input().split()))\n",
        "\n",
        "a.sort()\n",
        "b.sort(reverse=True)\n",
        "\n",
        "for i in range(k):\n",
        "  if a[i] < b[i]:\n",
        "    a[i], b[i] = b[i], a[i]\n",
        "  else:\n",
        "    break\n",
        "print(sum(a))"
      ],
      "execution_count": 69,
      "outputs": [
        {
          "output_type": "stream",
          "text": [
            "5 3\n",
            "1 2 5 4 3\n",
            "5 5 6 6 5\n",
            "26\n"
          ],
          "name": "stdout"
        }
      ]
    }
  ]
}