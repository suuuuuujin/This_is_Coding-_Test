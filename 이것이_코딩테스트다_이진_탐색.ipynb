{
  "nbformat": 4,
  "nbformat_minor": 0,
  "metadata": {
    "colab": {
      "name": "이것이 코딩테스트다_이진 탐색.ipynb",
      "provenance": [],
      "collapsed_sections": [],
      "authorship_tag": "ABX9TyMIUX6psHvo+UJoUCqoDFXq",
      "include_colab_link": true
    },
    "kernelspec": {
      "name": "python3",
      "display_name": "Python 3"
    },
    "language_info": {
      "name": "python"
    }
  },
  "cells": [
    {
      "cell_type": "markdown",
      "metadata": {
        "id": "view-in-github",
        "colab_type": "text"
      },
      "source": [
        "<a href=\"https://colab.research.google.com/github/suuuuuujin/This_is_Coding_Test/blob/main/%EC%9D%B4%EA%B2%83%EC%9D%B4_%EC%BD%94%EB%94%A9%ED%85%8C%EC%8A%A4%ED%8A%B8%EB%8B%A4_%EC%9D%B4%EC%A7%84_%ED%83%90%EC%83%89.ipynb\" target=\"_parent\"><img src=\"https://colab.research.google.com/assets/colab-badge.svg\" alt=\"Open In Colab\"/></a>"
      ]
    },
    {
      "cell_type": "markdown",
      "metadata": {
        "id": "-kEJ7lBISF8a"
      },
      "source": [
        "# Chapter 7. 이진 탐색"
      ]
    },
    {
      "cell_type": "markdown",
      "metadata": {
        "id": "AKvURUBgSMYC"
      },
      "source": [
        "## 1. 범위를 반씩 좁혀가는 탐색"
      ]
    },
    {
      "cell_type": "markdown",
      "metadata": {
        "id": "r4t-EhPPSP_r"
      },
      "source": [
        "## 순차 탐색(Sequential Search)"
      ]
    },
    {
      "cell_type": "markdown",
      "metadata": {
        "id": "LBo-3JjLT3qp"
      },
      "source": [
        "### 순차 탐색 소스코드"
      ]
    },
    {
      "cell_type": "code",
      "metadata": {
        "colab": {
          "base_uri": "https://localhost:8080/"
        },
        "id": "qdDiiwhSR-cq",
        "outputId": "ec7c173f-4975-42aa-b29e-36d6b500caba"
      },
      "source": [
        "def sequential_search(n, target, array):\n",
        "  for i in range(n):\n",
        "    if array[i] == target:\n",
        "      return i + 1\n",
        "\n",
        "print(\"생성할 원소 개수를 입력한 다음 한 칸 띄고 찾을 문자열을 입력하세요\")\n",
        "input_data = input().split()\n",
        "n = int(input_data[0])\n",
        "target = input_data[1]\n",
        "\n",
        "print(\"앞서 적은 원소 개수만큼 문자열을 입력하세요. 구분은 띄어쓰기 한 칸으로 합니다.\")\n",
        "array = input().split()\n",
        "\n",
        "print(sequential_search(n,target, array))"
      ],
      "execution_count": 1,
      "outputs": [
        {
          "output_type": "stream",
          "text": [
            "생성할 원소 개수를 입력한 다음 한 칸 띄고 찾을 문자열을 입력하세요\n",
            "5 Dongbin\n",
            "앞서 적은 원소 개수만큼 문자열을 입력하세요. 구분은 띄어쓰기 한 칸으로 합니다.\n",
            "Hanul Jonggu Dongbin Taeil Sangwook\n",
            "3\n"
          ],
          "name": "stdout"
        }
      ]
    },
    {
      "cell_type": "code",
      "metadata": {
        "id": "6zwCYKxOUf59"
      },
      "source": [
        ""
      ],
      "execution_count": null,
      "outputs": []
    },
    {
      "cell_type": "markdown",
      "metadata": {
        "id": "OGrFfGkwUw1I"
      },
      "source": [
        "## 이진 탐색(Binary Search) : 반으로 쪼개면서 탐색하기"
      ]
    },
    {
      "cell_type": "markdown",
      "metadata": {
        "id": "0vNb1g-ZWdq6"
      },
      "source": [
        "### 재귀 함수로 구현한 이진 탐색 소스코드"
      ]
    },
    {
      "cell_type": "code",
      "metadata": {
        "colab": {
          "base_uri": "https://localhost:8080/"
        },
        "id": "S3xEebqQUyvL",
        "outputId": "b10d972a-dd70-4b39-e810-334492ef8c81"
      },
      "source": [
        "def binary_search(array, target, start, end):\n",
        "  if start > end:\n",
        "    return None\n",
        "  mid = (start + end) // 2\n",
        "  if array[mid] == target : \n",
        "    return mid\n",
        "  elif array[mid] > target : \n",
        "    return binary_search(array, target, start, mid -1)\n",
        "  else : \n",
        "    return binary_search(array, target, mid + 1, end)\n",
        "\n",
        "\n",
        "n, target = list(map(int, input().split()))\n",
        "array = list(map(int, input().split()))\n",
        "\n",
        "result = binary_search(array, target, 0, n-1)\n",
        "if result == None:\n",
        "  print('원소가 존재하지 않습니다.')\n",
        "else:\n",
        "  print(result + 1)"
      ],
      "execution_count": 3,
      "outputs": [
        {
          "output_type": "stream",
          "text": [
            "10 7\n",
            "1 3 5 7 9 11 13 15 17 19\n",
            "4\n"
          ],
          "name": "stdout"
        }
      ]
    },
    {
      "cell_type": "code",
      "metadata": {
        "colab": {
          "base_uri": "https://localhost:8080/"
        },
        "id": "4ZGRFXW1WtJF",
        "outputId": "2e489dbf-512c-42fe-c0ea-07d84fb2b4f3"
      },
      "source": [
        "n, target = list(map(int, input().split()))\n",
        "array = list(map(int, input().split()))\n",
        "\n",
        "result = binary_search(array, target, 0, n-1)\n",
        "if result == None:\n",
        "  print('원소가 존재하지 않습니다.')\n",
        "else:\n",
        "  print(result + 1)"
      ],
      "execution_count": 5,
      "outputs": [
        {
          "output_type": "stream",
          "text": [
            "10 7\n",
            "1 3 5 6 9 11 13 15 17 19\n",
            "원소가 존재하지 않습니다.\n"
          ],
          "name": "stdout"
        }
      ]
    },
    {
      "cell_type": "code",
      "metadata": {
        "id": "LFomf7e7WuR3"
      },
      "source": [
        ""
      ],
      "execution_count": null,
      "outputs": []
    },
    {
      "cell_type": "markdown",
      "metadata": {
        "id": "jLsMOnXiX1zA"
      },
      "source": [
        "### 반복문으로 구현한 이진 탐색 소스코드"
      ]
    },
    {
      "cell_type": "code",
      "metadata": {
        "colab": {
          "base_uri": "https://localhost:8080/"
        },
        "id": "oTOLIVodX3ck",
        "outputId": "2eaffc07-2ce8-4382-f4d3-5b66a24f7f4e"
      },
      "source": [
        "def binary_search(array, target, start, end):\n",
        "  while start <= end:\n",
        "    mid = (start + end) // 2\n",
        "\n",
        "    if array[mid] == target:\n",
        "      return mid\n",
        "    elif array[mid] > target:\n",
        "      end = mid - 1\n",
        "    else:\n",
        "      start = mid + 1\n",
        "  return None\n",
        "\n",
        "\n",
        "n, target = list(map(int, input().split()))\n",
        "array = list(map(int, input().split()))\n",
        "\n",
        "result = binary_search(array, target, 0, n-1)\n",
        "if result == None:\n",
        "  print('원소가 존재하지 않습니다.')\n",
        "else:\n",
        "  print(result + 1)"
      ],
      "execution_count": 7,
      "outputs": [
        {
          "output_type": "stream",
          "text": [
            "10 7\n",
            "1 3 5 7 9 11 15 16 17 20\n",
            "4\n"
          ],
          "name": "stdout"
        }
      ]
    },
    {
      "cell_type": "code",
      "metadata": {
        "id": "tmPMAlAwYYwW"
      },
      "source": [
        ""
      ],
      "execution_count": null,
      "outputs": []
    },
    {
      "cell_type": "markdown",
      "metadata": {
        "id": "QH9nop6mZTUT"
      },
      "source": [
        "### 트리 자료구조"
      ]
    },
    {
      "cell_type": "markdown",
      "metadata": {
        "id": "CsE5easzdCFk"
      },
      "source": [
        "데이터베이스는 내부적으로 대용량 데이터 처리에 적합한 트리 자료구조를 이용하여 항상 데이터가 정렬되어 있다. \n",
        "\n",
        "트리 자료구조 특징\n",
        "  - 부모 노드와 자식 노드 관계로 표현\n",
        "  - 최상단 노드를 루트 노드\n",
        "  - 최하단 노드를 단말 노드\n",
        "  - 트리에서 일부를 떼어내도 트리 구조로, 서브 트리라 한다.\n",
        "  - 파일 시스템과 같이 계층적이고 정렬된 데이터를 다루기 적합"
      ]
    },
    {
      "cell_type": "markdown",
      "metadata": {
        "id": "B8F8iiMWcx2U"
      },
      "source": [
        "## 이진 탐색 트리"
      ]
    },
    {
      "cell_type": "markdown",
      "metadata": {
        "id": "XRWFWm8Udg8H"
      },
      "source": [
        "트리 자료구조 중 가장 간단한 형태\n",
        "\n",
        "특징 \n",
        "- 부모 노드보다 왼쪽 자식 노드가 작다.\n",
        "- 부모 노드보다 오른쪽 자식 노드가 크다."
      ]
    },
    {
      "cell_type": "code",
      "metadata": {
        "id": "jlPkQaAiZUbJ"
      },
      "source": [
        ""
      ],
      "execution_count": null,
      "outputs": []
    },
    {
      "cell_type": "markdown",
      "metadata": {
        "id": "nVF6zsnUeYGS"
      },
      "source": [
        "### 빠르게 입력받기 - 한 줄 입력받아 출력하는 소스코드"
      ]
    },
    {
      "cell_type": "code",
      "metadata": {
        "colab": {
          "base_uri": "https://localhost:8080/"
        },
        "id": "wPDVijrFebcL",
        "outputId": "bce7066d-5399-4585-a324-3c3937844ed2"
      },
      "source": [
        "import sys\n",
        "input_data = sys.stdin.readline().rstrip()\n",
        "\n",
        "print(input_data)"
      ],
      "execution_count": 11,
      "outputs": [
        {
          "output_type": "stream",
          "text": [
            "\n"
          ],
          "name": "stdout"
        }
      ]
    },
    {
      "cell_type": "code",
      "metadata": {
        "id": "e9rcA1D0ekO4"
      },
      "source": [
        ""
      ],
      "execution_count": null,
      "outputs": []
    },
    {
      "cell_type": "markdown",
      "metadata": {
        "id": "lT6e6TtPe7O8"
      },
      "source": [
        "## 2. 부품 찾기"
      ]
    },
    {
      "cell_type": "markdown",
      "metadata": {
        "id": "IVNVd93yoCDv"
      },
      "source": [
        "### Me - 재귀함수"
      ]
    },
    {
      "cell_type": "code",
      "metadata": {
        "colab": {
          "base_uri": "https://localhost:8080/"
        },
        "id": "NIjKqzKbe8tb",
        "outputId": "c61e27ff-c200-46fc-f4ec-fb995d51bb96"
      },
      "source": [
        "n = int(input())\n",
        "store = list(map(int, input().split()))\n",
        "\n",
        "m = int(input())\n",
        "customer = list(map(int, input().split()))"
      ],
      "execution_count": 34,
      "outputs": [
        {
          "output_type": "stream",
          "text": [
            "5\n",
            "8 3 7 9 2\n",
            "3\n",
            "5 7 9\n"
          ],
          "name": "stdout"
        }
      ]
    },
    {
      "cell_type": "code",
      "metadata": {
        "colab": {
          "base_uri": "https://localhost:8080/"
        },
        "id": "mDXpvtYdifn4",
        "outputId": "9b6311fb-68d1-47d0-fbe0-03ea12a9b194"
      },
      "source": [
        "store.sort()\n",
        "store"
      ],
      "execution_count": 35,
      "outputs": [
        {
          "output_type": "execute_result",
          "data": {
            "text/plain": [
              "[2, 3, 7, 8, 9]"
            ]
          },
          "metadata": {
            "tags": []
          },
          "execution_count": 35
        }
      ]
    },
    {
      "cell_type": "code",
      "metadata": {
        "colab": {
          "base_uri": "https://localhost:8080/"
        },
        "id": "fGVdx8kYiwsQ",
        "outputId": "069e46aa-c610-426c-e0eb-5be4eb278d39"
      },
      "source": [
        "# 제대로 안돌아감\n",
        "def binary_search(array, target, start, end):\n",
        "  if start > end:\n",
        "    return None\n",
        "  mid = (start + end) // 2\n",
        "\n",
        "  if array[mid] == target:\n",
        "    return mid\n",
        "  elif array[mid] < target:\n",
        "    binary_search(array, target, mid+1, end)\n",
        "  else:\n",
        "    binary_search(array, target, start, mid-1)\n",
        "\n",
        "\n",
        "for i in customer:\n",
        "  result = binary_search(store, i,0,n-1)\n",
        "  if result == None:\n",
        "    print('no', end=' ')\n",
        "  else:\n",
        "    print('yes', end=' ')"
      ],
      "execution_count": 57,
      "outputs": [
        {
          "output_type": "stream",
          "text": [
            "no yes no "
          ],
          "name": "stdout"
        }
      ]
    },
    {
      "cell_type": "code",
      "metadata": {
        "colab": {
          "base_uri": "https://localhost:8080/"
        },
        "id": "CWRD5YMmou8q",
        "outputId": "412f794c-9705-497d-a9f2-a6634fa60c0c"
      },
      "source": [
        "# 안돌아가는 이유 찾기\n",
        "def binary_search(array, target, start, end):\n",
        "  if start > end:\n",
        "    return None\n",
        "  mid = (start + end) // 2\n",
        "  print('처음 mid :',mid)\n",
        "  if array[mid] == target:\n",
        "    return mid\n",
        "  elif array[mid] < target:\n",
        "    binary_search(array, target, mid+1, end)\n",
        "  else:\n",
        "    binary_search(array, target, start, mid-1)\n",
        "  print(mid)\n",
        "\n",
        "\n",
        "result = binary_search(store, 9,0,n-1)\n",
        "print(result)"
      ],
      "execution_count": 60,
      "outputs": [
        {
          "output_type": "stream",
          "text": [
            "처음 mid : 2\n",
            "처음 mid : 3\n",
            "처음 mid : 4\n",
            "3\n",
            "2\n",
            "None\n"
          ],
          "name": "stdout"
        }
      ]
    },
    {
      "cell_type": "code",
      "metadata": {
        "colab": {
          "base_uri": "https://localhost:8080/"
        },
        "id": "9VvXBpeqo3XB",
        "outputId": "5de5eb85-3c1b-4e2e-fd9f-55a12f6021f5"
      },
      "source": [
        "store"
      ],
      "execution_count": 61,
      "outputs": [
        {
          "output_type": "execute_result",
          "data": {
            "text/plain": [
              "[2, 3, 7, 8, 9]"
            ]
          },
          "metadata": {
            "tags": []
          },
          "execution_count": 61
        }
      ]
    },
    {
      "cell_type": "code",
      "metadata": {
        "colab": {
          "base_uri": "https://localhost:8080/"
        },
        "id": "OIaZ5HBqrDwm",
        "outputId": "56b763b6-2b8a-4a1a-a16d-9f666ea59177"
      },
      "source": [
        "# return을 넣으니 정상 작동\n",
        "def binary_search(array, target, start, end):\n",
        "  if start > end:\n",
        "    return None\n",
        "  mid = (start + end) // 2\n",
        "\n",
        "  if array[mid] == target:\n",
        "    return mid\n",
        "  elif array[mid] < target:\n",
        "    return binary_search(array, target, mid+1, end)\n",
        "  else:\n",
        "    return binary_search(array, target, start, mid-1)\n",
        "\n",
        "\n",
        "for i in customer:\n",
        "  result = binary_search(store, i,0,n-1)\n",
        "  if result == None:\n",
        "    print('no', end=' ')\n",
        "  else:\n",
        "    print('yes', end=' ')"
      ],
      "execution_count": 63,
      "outputs": [
        {
          "output_type": "stream",
          "text": [
            "no yes yes "
          ],
          "name": "stdout"
        }
      ]
    },
    {
      "cell_type": "markdown",
      "metadata": {
        "id": "zz-rMeKmrLUM"
      },
      "source": [
        "### Me - 반복문"
      ]
    },
    {
      "cell_type": "code",
      "metadata": {
        "colab": {
          "base_uri": "https://localhost:8080/"
        },
        "id": "6ONPUB5DkRiD",
        "outputId": "381b5e36-c38a-4336-baa8-98b095ec900e"
      },
      "source": [
        "def binary_search(array, target, start, end):\n",
        "  while start <= end:\n",
        "    mid = (start + end) // 2\n",
        "    if array[mid] == target:\n",
        "      return mid\n",
        "    elif array[mid] < target:\n",
        "      start = mid + 1\n",
        "    else:\n",
        "      end = mid - 1\n",
        "    \n",
        "  return None\n",
        "\n",
        "\n",
        "for i in customer:\n",
        "  result = binary_search(store, i,0,n-1)\n",
        "  if result == None:\n",
        "    print('no', end=' ')\n",
        "  else:\n",
        "    print('yes', end=' ')"
      ],
      "execution_count": 64,
      "outputs": [
        {
          "output_type": "stream",
          "text": [
            "no yes yes "
          ],
          "name": "stdout"
        }
      ]
    },
    {
      "cell_type": "code",
      "metadata": {
        "id": "AhjraeUTmFs7"
      },
      "source": [
        ""
      ],
      "execution_count": null,
      "outputs": []
    },
    {
      "cell_type": "markdown",
      "metadata": {
        "id": "WFoaDxaSrStR"
      },
      "source": [
        "### 답안 예시(이진 탐색)"
      ]
    },
    {
      "cell_type": "code",
      "metadata": {
        "colab": {
          "base_uri": "https://localhost:8080/"
        },
        "id": "WjBfMmLmrW6X",
        "outputId": "d6e5978a-50bc-466e-9830-1ce82f366777"
      },
      "source": [
        "def binary_search(array, target, start, end):\n",
        "  while start <= end:\n",
        "    mid = (start + end) // 2\n",
        "\n",
        "    if array[mid] == target:\n",
        "      return mid\n",
        "    elif array[mid] > target:\n",
        "      end = mid - 1\n",
        "    else:\n",
        "      start = mid + 1\n",
        "  return None\n",
        "\n",
        "n = int(input())\n",
        "\n",
        "array = list(map(int, input().split()))\n",
        "array.sort()\n",
        "\n",
        "m = int(input())\n",
        "x = list(map(int, input().split()))\n",
        "\n",
        "for i in x:\n",
        "  result = binary_search(array, i , 0, n-1)\n",
        "  if result != None:\n",
        "    print('yes', end=' ')\n",
        "  else:\n",
        "    print('no', end=' ')"
      ],
      "execution_count": 65,
      "outputs": [
        {
          "output_type": "stream",
          "text": [
            "5\n",
            "8 3 7 9 2\n",
            "3\n",
            "5 7 9\n",
            "no yes yes "
          ],
          "name": "stdout"
        }
      ]
    },
    {
      "cell_type": "code",
      "metadata": {
        "id": "s6A35yhBsNT-"
      },
      "source": [
        ""
      ],
      "execution_count": null,
      "outputs": []
    },
    {
      "cell_type": "markdown",
      "metadata": {
        "id": "s79f1xyTsahC"
      },
      "source": [
        "### 답안 예시(계수 정렬)"
      ]
    },
    {
      "cell_type": "code",
      "metadata": {
        "colab": {
          "base_uri": "https://localhost:8080/"
        },
        "id": "sbdVZzSpscVs",
        "outputId": "cbd2f4c4-7bf9-46e0-fa23-4970135b6f50"
      },
      "source": [
        "n = int(input())\n",
        "array = [0] * 1000001\n",
        "\n",
        "for i in input().split():\n",
        "  array[int(i)] = 1\n",
        "\n",
        "m = int(input())\n",
        "x = list(map(int, input().split()))\n",
        "\n",
        "for i in x:\n",
        "  if array[i] == 1:\n",
        "    print('yes', end=' ')\n",
        "  else:\n",
        "    print('no', end=' ')"
      ],
      "execution_count": 67,
      "outputs": [
        {
          "output_type": "stream",
          "text": [
            "5\n",
            "8 3 7 9 2\n",
            "3\n",
            "5 7 9\n",
            "no yes yes "
          ],
          "name": "stdout"
        }
      ]
    },
    {
      "cell_type": "code",
      "metadata": {
        "id": "MPD5FdFrsxod"
      },
      "source": [
        ""
      ],
      "execution_count": null,
      "outputs": []
    },
    {
      "cell_type": "markdown",
      "metadata": {
        "id": "M9qeeRpmtE-o"
      },
      "source": [
        "### 답안 예시(집합 자료형 이용)"
      ]
    },
    {
      "cell_type": "code",
      "metadata": {
        "colab": {
          "base_uri": "https://localhost:8080/"
        },
        "id": "zq8cQddptHOs",
        "outputId": "2f5b8c50-4f24-4cc8-fff0-a224bf7ce058"
      },
      "source": [
        "n = int(input())\n",
        "\n",
        "array = set(map(int, input().split()))\n",
        "\n",
        "m = int(input())\n",
        "\n",
        "x = list(map(int, input().split()))\n",
        "\n",
        "for i in x:\n",
        "  if i in array:\n",
        "    print('yes', end=' ')\n",
        "  else:\n",
        "    print('no', end=' ')"
      ],
      "execution_count": 72,
      "outputs": [
        {
          "output_type": "stream",
          "text": [
            "5\n",
            "8 3 7 9 2\n",
            "3\n",
            "5 7 9\n",
            "no yes yes "
          ],
          "name": "stdout"
        }
      ]
    },
    {
      "cell_type": "code",
      "metadata": {
        "id": "_0yemUMsterz"
      },
      "source": [
        ""
      ],
      "execution_count": null,
      "outputs": []
    },
    {
      "cell_type": "markdown",
      "metadata": {
        "id": "tE-W1MOpwDtB"
      },
      "source": [
        "## 3. 떡볶이 떡 만들기"
      ]
    },
    {
      "cell_type": "markdown",
      "metadata": {
        "id": "gjee0uKr3-hu"
      },
      "source": [
        "### Me"
      ]
    },
    {
      "cell_type": "code",
      "metadata": {
        "colab": {
          "base_uri": "https://localhost:8080/"
        },
        "id": "tZR9kJbUwLVV",
        "outputId": "c2f96651-f257-419e-8f98-59895a9c5dc2"
      },
      "source": [
        "n, m = map(int, input().split())\n",
        "dduk = list(map(int, input().split()))"
      ],
      "execution_count": 121,
      "outputs": [
        {
          "output_type": "stream",
          "text": [
            "4 6\n",
            "19 15 10 17\n"
          ],
          "name": "stdout"
        }
      ]
    },
    {
      "cell_type": "code",
      "metadata": {
        "colab": {
          "base_uri": "https://localhost:8080/"
        },
        "id": "1WOF0EAWzvj6",
        "outputId": "e88f76e9-e2f2-434b-93c3-32e3878918eb"
      },
      "source": [
        "dduk.sort(reverse=True)\n",
        "dduk"
      ],
      "execution_count": 122,
      "outputs": [
        {
          "output_type": "execute_result",
          "data": {
            "text/plain": [
              "[19, 17, 15, 10]"
            ]
          },
          "metadata": {
            "tags": []
          },
          "execution_count": 122
        }
      ]
    },
    {
      "cell_type": "code",
      "metadata": {
        "colab": {
          "base_uri": "https://localhost:8080/"
        },
        "id": "wXx0RnyYzVNc",
        "outputId": "d09e6c93-2abb-4cae-9190-f7cec1f56944"
      },
      "source": [
        "for i in range(max(dduk),0,-1):\n",
        "  print(i)"
      ],
      "execution_count": 123,
      "outputs": [
        {
          "output_type": "stream",
          "text": [
            "19\n",
            "18\n",
            "17\n",
            "16\n",
            "15\n",
            "14\n",
            "13\n",
            "12\n",
            "11\n",
            "10\n",
            "9\n",
            "8\n",
            "7\n",
            "6\n",
            "5\n",
            "4\n",
            "3\n",
            "2\n",
            "1\n"
          ],
          "name": "stdout"
        }
      ]
    },
    {
      "cell_type": "code",
      "metadata": {
        "colab": {
          "base_uri": "https://localhost:8080/"
        },
        "id": "PrutcCLu0kRF",
        "outputId": "0977508c-bc84-4e3b-99b6-d6890165824c"
      },
      "source": [
        "for j in range(len(dduk)):\n",
        "  print(dduk[j])"
      ],
      "execution_count": 124,
      "outputs": [
        {
          "output_type": "stream",
          "text": [
            "19\n",
            "17\n",
            "15\n",
            "10\n"
          ],
          "name": "stdout"
        }
      ]
    },
    {
      "cell_type": "code",
      "metadata": {
        "colab": {
          "base_uri": "https://localhost:8080/"
        },
        "id": "RCuPoCUuzTXc",
        "outputId": "a8b30cb5-10fe-4c50-eaa6-c057b3ba925a"
      },
      "source": [
        "for i in range(max(dduk),0,-1):\n",
        "  x = []\n",
        "\n",
        "  for j in range(len(dduk)):\n",
        "    if i < dduk[j]:\n",
        "      x.append(dduk[j]-i)\n",
        "    else :\n",
        "      break\n",
        "\n",
        "  if sum(x) >= m:\n",
        "    break\n",
        "  else:\n",
        "    continue\n",
        "\n",
        "print(i)"
      ],
      "execution_count": 125,
      "outputs": [
        {
          "output_type": "stream",
          "text": [
            "15\n"
          ],
          "name": "stdout"
        }
      ]
    },
    {
      "cell_type": "code",
      "metadata": {
        "colab": {
          "base_uri": "https://localhost:8080/"
        },
        "id": "0z3AAfW81plO",
        "outputId": "b492c73e-f74d-4acd-d38b-dbb353e6a03f"
      },
      "source": [
        "n, m = map(int, input().split())\n",
        "dduk = list(map(int, input().split()))\n",
        "\n",
        "dduk.sort(reverse=True)\n",
        "\n",
        "for i in range(max(dduk),0,-1):\n",
        "  x = []\n",
        "\n",
        "  for j in range(len(dduk)):\n",
        "    if i < dduk[j]:\n",
        "      x.append(dduk[j]-i)\n",
        "    else :\n",
        "      break\n",
        "\n",
        "  if sum(x) >= m:\n",
        "    break\n",
        "  else:\n",
        "    continue\n",
        "\n",
        "print(i)"
      ],
      "execution_count": 128,
      "outputs": [
        {
          "output_type": "stream",
          "text": [
            "4 8\n",
            "19 15 10 17\n",
            "14\n"
          ],
          "name": "stdout"
        }
      ]
    },
    {
      "cell_type": "code",
      "metadata": {
        "id": "D0z5Cm_R4RRo"
      },
      "source": [
        ""
      ],
      "execution_count": null,
      "outputs": []
    },
    {
      "cell_type": "markdown",
      "metadata": {
        "id": "azbmyK8a5xUx"
      },
      "source": [
        "## 답안 예시(반복문)\n",
        "  파라메트릭 서치문제 : 최적화 문제를 결정 문제로 바꾸어 해결하는 기법, 원하는 조건을 만족하는 가장 알맞은 값을 찾는 문제에 주로 사용\n",
        "\n",
        "  파라메트릭 서치문제 유형은 반복문을 이용하면 더 간결하다"
      ]
    },
    {
      "cell_type": "code",
      "metadata": {
        "colab": {
          "base_uri": "https://localhost:8080/"
        },
        "id": "pcUq2TFp6--3",
        "outputId": "2aea0080-e705-40f2-9760-837ef9509ebb"
      },
      "source": [
        "n, m = list(map(int, input().split(' ')))\n",
        "array = list(map(int, input().split()))\n",
        "\n",
        "start = 0\n",
        "end = max(array)\n",
        "\n",
        "result = 0\n",
        "while (start <=  end):\n",
        "  total = 0\n",
        "  mid = (start + end) // 2\n",
        "  for x in array:\n",
        "    if x > mid:\n",
        "      total += x - mid\n",
        "\n",
        "  if total < m :\n",
        "    end = mid - 1\n",
        "  else:\n",
        "    result = mid\n",
        "    start = mid + 1\n",
        "\n",
        "print(result)"
      ],
      "execution_count": 130,
      "outputs": [
        {
          "output_type": "stream",
          "text": [
            "4 8\n",
            "19 15 10 17\n",
            "14\n"
          ],
          "name": "stdout"
        }
      ]
    },
    {
      "cell_type": "code",
      "metadata": {
        "id": "WCQ7wfLd7iq5"
      },
      "source": [
        ""
      ],
      "execution_count": null,
      "outputs": []
    }
  ]
}