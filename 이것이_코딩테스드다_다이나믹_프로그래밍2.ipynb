{
  "nbformat": 4,
  "nbformat_minor": 0,
  "metadata": {
    "colab": {
      "name": "이것이 코딩테스드다_다이나믹 프로그래밍.ipynb",
      "provenance": [],
      "collapsed_sections": [],
      "authorship_tag": "ABX9TyNPHc/PjflmJtLJCURVaOiB",
      "include_colab_link": true
    },
    "kernelspec": {
      "name": "python3",
      "display_name": "Python 3"
    },
    "language_info": {
      "name": "python"
    }
  },
  "cells": [
    {
      "cell_type": "markdown",
      "metadata": {
        "id": "view-in-github",
        "colab_type": "text"
      },
      "source": [
        "<a href=\"https://colab.research.google.com/github/suuuuuujin/This_is_Coding_Test/blob/main/%EC%9D%B4%EA%B2%83%EC%9D%B4_%EC%BD%94%EB%94%A9%ED%85%8C%EC%8A%A4%EB%93%9C%EB%8B%A4_%EB%8B%A4%EC%9D%B4%EB%82%98%EB%AF%B9_%ED%94%84%EB%A1%9C%EA%B7%B8%EB%9E%98%EB%B0%8D2.ipynb\" target=\"_parent\"><img src=\"https://colab.research.google.com/assets/colab-badge.svg\" alt=\"Open In Colab\"/></a>"
      ]
    },
    {
      "cell_type": "markdown",
      "metadata": {
        "id": "mrHJeYLZwkAm"
      },
      "source": [
        "# Chapter 08. 다이나믹 프로그래밍"
      ]
    },
    {
      "cell_type": "markdown",
      "metadata": {
        "id": "Tj5-fdXhwqez"
      },
      "source": [
        "## 1. 다이나믹 프로그래밍 = 동적 계획법"
      ]
    },
    {
      "cell_type": "markdown",
      "metadata": {
        "id": "DgrZ_iosyqu4"
      },
      "source": [
        "###  피보나치 함수 소스코드"
      ]
    },
    {
      "cell_type": "code",
      "metadata": {
        "id": "msTxwzg4waup",
        "colab": {
          "base_uri": "https://localhost:8080/"
        },
        "outputId": "3b75eeb9-91e3-4641-f739-6b3321dce515"
      },
      "source": [
        "def fibo(x):\n",
        "  if x == 1 or x == 2:\n",
        "    return 1\n",
        "  return fibo(x-1) + fibo(x-2)\n",
        "\n",
        "print(fibo(4))"
      ],
      "execution_count": null,
      "outputs": [
        {
          "output_type": "stream",
          "text": [
            "3\n"
          ],
          "name": "stdout"
        }
      ]
    },
    {
      "cell_type": "markdown",
      "metadata": {
        "id": "Uc9bMF18zg7F"
      },
      "source": [
        "다이나믹 프로그래밍 조건\n",
        "  - 큰 문제를 작은 문제로 나눌 수 있다.\n",
        "  - 작은 문제에서 구한 정답은 그것을 포함하는 큰 문제에서도 동일하다.\n",
        "\n",
        "메모이제이션 기법 = 캐싱 : 다이나믹 프로그래밍 구현 방법 중 하나로, 한 번 구한 결과를 메모리 공간에 메모해두고 같은 식을 다시 호출하면 메모한 결과를 그대로 가져오는 기법"
      ]
    },
    {
      "cell_type": "markdown",
      "metadata": {
        "id": "vlByXzh_zzd7"
      },
      "source": [
        "### 피보나치 수열 소스코드(재귀적) - 탑다운 방식"
      ]
    },
    {
      "cell_type": "code",
      "metadata": {
        "colab": {
          "base_uri": "https://localhost:8080/"
        },
        "id": "TbkixWDgy8Tl",
        "outputId": "96077903-e37a-46d1-af0c-b755ea3e3ab5"
      },
      "source": [
        "d = [0] * 100   # 메모제이션하기 위한 리스트 초기화\n",
        "\n",
        "# 피보나치 함수를 재귀함수로 구현(탑다운 다이나믹 프로그래밍)\n",
        "def fibo(x):\n",
        "  if x == 1 or x == 2:\n",
        "    return 1\n",
        "  \n",
        "  if d[x] != 0:\n",
        "    return d[x]\n",
        "\n",
        "  d[x] = fibo(x-1) + fibo(x-2)\n",
        "  return d[x]\n",
        "\n",
        "print(fibo(99))"
      ],
      "execution_count": null,
      "outputs": [
        {
          "output_type": "stream",
          "text": [
            "218922995834555169026\n"
          ],
          "name": "stdout"
        }
      ]
    },
    {
      "cell_type": "markdown",
      "metadata": {
        "id": "nBsJ3o5A2C-f"
      },
      "source": [
        "### 호출되는 함수 확인"
      ]
    },
    {
      "cell_type": "code",
      "metadata": {
        "colab": {
          "base_uri": "https://localhost:8080/"
        },
        "id": "kO1xD7Xo2FaJ",
        "outputId": "ebe1d957-4a03-498f-9c8e-eaaf7cca7b89"
      },
      "source": [
        "d = [0] * 100\n",
        "\n",
        "def pibo(x):\n",
        "\n",
        "  print('f(' + str(x) + ')', end=' ')\n",
        "\n",
        "  if x == 1 or x == 2:\n",
        "    return 1\n",
        "  if d[x] != 0:\n",
        "    return d[x]\n",
        "  d[x] = pibo(x-1) + pibo(x-2)\n",
        "  return d[x]\n",
        "\n",
        "pibo(6)"
      ],
      "execution_count": null,
      "outputs": [
        {
          "output_type": "stream",
          "text": [
            "f(6) f(5) f(4) f(3) f(2) f(1) f(2) f(3) f(4) "
          ],
          "name": "stdout"
        },
        {
          "output_type": "execute_result",
          "data": {
            "text/plain": [
              "8"
            ]
          },
          "metadata": {
            "tags": []
          },
          "execution_count": 11
        }
      ]
    },
    {
      "cell_type": "markdown",
      "metadata": {
        "id": "r5X5umMj5LT-"
      },
      "source": [
        "### 피보나치 수열 소스코드(반복적) - 보텀업 방식"
      ]
    },
    {
      "cell_type": "code",
      "metadata": {
        "colab": {
          "base_uri": "https://localhost:8080/"
        },
        "id": "ZJ0D076q2a9P",
        "outputId": "98b188f1-5ef5-4358-f2eb-70627b8c75d6"
      },
      "source": [
        "d = [0] * 100\n",
        "\n",
        "d[1] = 1\n",
        "d[2] = 1\n",
        "n = 99\n",
        "\n",
        "for i in range(3, n+1):\n",
        "  d[i] = d[i-1] + d[i-2]\n",
        "\n",
        "print(d[n])"
      ],
      "execution_count": null,
      "outputs": [
        {
          "output_type": "stream",
          "text": [
            "218922995834555169026\n"
          ],
          "name": "stdout"
        }
      ]
    },
    {
      "cell_type": "code",
      "metadata": {
        "id": "Ii99Jtp05ftX"
      },
      "source": [
        ""
      ],
      "execution_count": null,
      "outputs": []
    },
    {
      "cell_type": "markdown",
      "metadata": {
        "id": "qkYdmgiR8LOQ"
      },
      "source": [
        "## 2. 1로 만들기"
      ]
    },
    {
      "cell_type": "markdown",
      "metadata": {
        "id": "hI5zjCs4_XpK"
      },
      "source": [
        "### Me"
      ]
    },
    {
      "cell_type": "code",
      "metadata": {
        "colab": {
          "base_uri": "https://localhost:8080/"
        },
        "id": "yWesF-wP8MxQ",
        "outputId": "1c1f81cb-4f67-490e-963c-122cd71cc96d"
      },
      "source": [
        "x = int(input())\n",
        "count = 0\n",
        "\n",
        "while x != 1:\n",
        "  if x % 5 == 0:\n",
        "    x /= 5\n",
        "    count += 1\n",
        "  elif x % 5 == 1:\n",
        "    x -= 1\n",
        "    count += 1\n",
        "  elif x % 3 == 0:\n",
        "    x /= 3\n",
        "    count += 1\n",
        "  elif x % 3 == 1:\n",
        "    x -= 1\n",
        "    count += 1\n",
        "  elif x % 2 == 0:\n",
        "    x /= 2\n",
        "    count += 1\n",
        "  else:\n",
        "    x -= 1\n",
        "    count += 1\n",
        "\n",
        "print(count)"
      ],
      "execution_count": null,
      "outputs": [
        {
          "output_type": "stream",
          "text": [
            "26\n",
            "3\n"
          ],
          "name": "stdout"
        }
      ]
    },
    {
      "cell_type": "markdown",
      "metadata": {
        "id": "AxKps8yZAGlP"
      },
      "source": [
        "### 답안 예시(다이나믹 프로그래밍 진행, 보텀업)"
      ]
    },
    {
      "cell_type": "code",
      "metadata": {
        "colab": {
          "base_uri": "https://localhost:8080/"
        },
        "id": "j-ndQNSbAH4j",
        "outputId": "9dc35001-7301-4c49-e574-53996dee3af9"
      },
      "source": [
        "x = int(input())\n",
        "\n",
        "d = [0] * 30001\n",
        "\n",
        "for i in range(2, x+1):\n",
        "  d[i] = d[i-1] + 1\n",
        "  if i % 2 == 0:\n",
        "    d[i] = min(d[i], d[i//2] + 1)\n",
        "  if i % 3 == 0:\n",
        "    d[i] = min(d[i], d[i//3] + 1)\n",
        "  if i % 5 == 0:\n",
        "    d[i] = min(d[i], d[i//5] + 1)\n",
        "\n",
        "  \n",
        "print(d[x])"
      ],
      "execution_count": null,
      "outputs": [
        {
          "output_type": "stream",
          "text": [
            "26\n",
            "3\n"
          ],
          "name": "stdout"
        }
      ]
    },
    {
      "cell_type": "code",
      "metadata": {
        "id": "P1dYy7kcAkx_"
      },
      "source": [
        ""
      ],
      "execution_count": null,
      "outputs": []
    },
    {
      "cell_type": "markdown",
      "metadata": {
        "id": "jq3k3uQoA-nw"
      },
      "source": [
        "## 3. 개미 전사"
      ]
    },
    {
      "cell_type": "markdown",
      "metadata": {
        "id": "V7h_ZlvlFhb0"
      },
      "source": [
        "### Me - 못풀"
      ]
    },
    {
      "cell_type": "code",
      "metadata": {
        "colab": {
          "base_uri": "https://localhost:8080/"
        },
        "id": "IfR1861lA_vj",
        "outputId": "f80c3946-be9d-4d31-c760-d4ad44f40df6"
      },
      "source": [
        "n = int(input())\n",
        "k = list(map(int, input().split()))\n"
      ],
      "execution_count": null,
      "outputs": [
        {
          "output_type": "stream",
          "text": [
            "4\n",
            "1 3 1 5\n"
          ],
          "name": "stdout"
        }
      ]
    },
    {
      "cell_type": "code",
      "metadata": {
        "id": "TZiD-AzGBGCr"
      },
      "source": [
        "d = [0] * 101\n",
        "\n",
        "for i in range(1, n+1):\n",
        "  d[i] = k[i-1]"
      ],
      "execution_count": null,
      "outputs": []
    },
    {
      "cell_type": "code",
      "metadata": {
        "id": "C6wJupvXCEGF"
      },
      "source": [
        ""
      ],
      "execution_count": null,
      "outputs": []
    },
    {
      "cell_type": "markdown",
      "metadata": {
        "id": "qsh-BGT8Fsal"
      },
      "source": [
        "### 답안 예시"
      ]
    },
    {
      "cell_type": "code",
      "metadata": {
        "colab": {
          "base_uri": "https://localhost:8080/"
        },
        "id": "LyCUAn6QFtpg",
        "outputId": "be7820ed-6fd3-48c5-9dbc-e6258695d6b4"
      },
      "source": [
        "n = int(input())"
      ],
      "execution_count": null,
      "outputs": [
        {
          "output_type": "stream",
          "text": [
            "4\n"
          ],
          "name": "stdout"
        }
      ]
    },
    {
      "cell_type": "code",
      "metadata": {
        "colab": {
          "base_uri": "https://localhost:8080/"
        },
        "id": "Nb-bR7xZFvM4",
        "outputId": "000465b4-0cf3-4f42-d5cd-ba0d67601f10"
      },
      "source": [
        "array = list(map(int, input().split()))"
      ],
      "execution_count": null,
      "outputs": [
        {
          "output_type": "stream",
          "text": [
            "1 3 1 5\n"
          ],
          "name": "stdout"
        }
      ]
    },
    {
      "cell_type": "code",
      "metadata": {
        "colab": {
          "base_uri": "https://localhost:8080/"
        },
        "id": "oTsJzQDKFzEF",
        "outputId": "f3b88177-337c-4777-d152-699203d11e58"
      },
      "source": [
        "d = [0] * 100\n",
        "\n",
        "d[0] = array[0]\n",
        "d[1] = max(array[0], array[1])\n",
        "for i in range(2,n):\n",
        "  d[i] = max(d[i-1], d[i-2] + array[i])\n",
        "\n",
        "print(d[n-1])"
      ],
      "execution_count": null,
      "outputs": [
        {
          "output_type": "stream",
          "text": [
            "8\n"
          ],
          "name": "stdout"
        }
      ]
    },
    {
      "cell_type": "code",
      "metadata": {
        "id": "sUuwwHm9GDVz"
      },
      "source": [
        ""
      ],
      "execution_count": null,
      "outputs": []
    },
    {
      "cell_type": "markdown",
      "metadata": {
        "id": "g2KiM4jwoojX"
      },
      "source": [
        "## 4. 바닥 공사"
      ]
    },
    {
      "cell_type": "markdown",
      "metadata": {
        "id": "1PIsXz3sq6AZ"
      },
      "source": [
        "### Me"
      ]
    },
    {
      "cell_type": "code",
      "metadata": {
        "colab": {
          "base_uri": "https://localhost:8080/"
        },
        "id": "lYGZfoNeoqvT",
        "outputId": "c0ec4a65-3a5c-4f0b-d6c6-99885639b7a1"
      },
      "source": [
        "n = int(input())"
      ],
      "execution_count": 2,
      "outputs": [
        {
          "output_type": "stream",
          "text": [
            "3\n"
          ],
          "name": "stdout"
        }
      ]
    },
    {
      "cell_type": "code",
      "metadata": {
        "id": "Quml5zSUq8_9"
      },
      "source": [
        ""
      ],
      "execution_count": null,
      "outputs": []
    },
    {
      "cell_type": "markdown",
      "metadata": {
        "id": "nNtHPEWhryUZ"
      },
      "source": [
        "### 답안 예시"
      ]
    },
    {
      "cell_type": "code",
      "metadata": {
        "colab": {
          "base_uri": "https://localhost:8080/"
        },
        "id": "bQkjb4MJrzLG",
        "outputId": "e18b6b90-d669-47d6-c0ec-2731aab2c1a2"
      },
      "source": [
        "n = int(input())\n",
        "\n",
        "d = [0] * 1001\n",
        "\n",
        "d[1] = 1\n",
        "d[2] = 3\n",
        "for i in range(3, n+1):\n",
        "  d[i] = (d[i-1] + 2 * d[i-2] ) % 796796\n",
        "\n",
        "\n",
        "print(d[n])"
      ],
      "execution_count": 4,
      "outputs": [
        {
          "output_type": "stream",
          "text": [
            "3\n",
            "5\n"
          ],
          "name": "stdout"
        }
      ]
    },
    {
      "cell_type": "code",
      "metadata": {
        "id": "lCnBaVIEsH6b"
      },
      "source": [
        ""
      ],
      "execution_count": null,
      "outputs": []
    },
    {
      "cell_type": "markdown",
      "metadata": {
        "id": "HAxrrnSSvAeT"
      },
      "source": [
        "## 5. 효율적인 화폐 구성"
      ]
    },
    {
      "cell_type": "markdown",
      "metadata": {
        "id": "KR8s2Amu2Kzd"
      },
      "source": [
        "### Me"
      ]
    },
    {
      "cell_type": "code",
      "metadata": {
        "colab": {
          "base_uri": "https://localhost:8080/"
        },
        "id": "1qh4yEcFvCQx",
        "outputId": "b3f6d3fc-f4ea-4b16-f04b-3b8ad685c064"
      },
      "source": [
        "n, m = map(int, input().split())\n",
        "x=[]\n",
        "for i in range(n):\n",
        "  x.append(int(input()))"
      ],
      "execution_count": 16,
      "outputs": [
        {
          "output_type": "stream",
          "text": [
            "2 15\n",
            "2\n",
            "3\n"
          ],
          "name": "stdout"
        }
      ]
    },
    {
      "cell_type": "code",
      "metadata": {
        "colab": {
          "base_uri": "https://localhost:8080/"
        },
        "id": "XjfttxfI2Zvp",
        "outputId": "871bdd64-7bb4-4608-bcea-dd09acd4e6a0"
      },
      "source": [
        "type(n)"
      ],
      "execution_count": 17,
      "outputs": [
        {
          "output_type": "execute_result",
          "data": {
            "text/plain": [
              "int"
            ]
          },
          "metadata": {
            "tags": []
          },
          "execution_count": 17
        }
      ]
    },
    {
      "cell_type": "code",
      "metadata": {
        "colab": {
          "base_uri": "https://localhost:8080/"
        },
        "id": "KVMNyVc32gXz",
        "outputId": "994faf37-3893-42ea-d26a-8904f13fe06a"
      },
      "source": [
        "x"
      ],
      "execution_count": 18,
      "outputs": [
        {
          "output_type": "execute_result",
          "data": {
            "text/plain": [
              "[2, 3]"
            ]
          },
          "metadata": {
            "tags": []
          },
          "execution_count": 18
        }
      ]
    },
    {
      "cell_type": "code",
      "metadata": {
        "colab": {
          "base_uri": "https://localhost:8080/",
          "height": 239
        },
        "id": "spV0G3aG3ECx",
        "outputId": "5792b491-cb12-4b2d-9241-5cdf16d4d201"
      },
      "source": [
        "x.sort(reverse=True)\n",
        "\n",
        "cnt = 0\n",
        "remainder = []\n",
        "while remainder != 0:\n",
        "  if m > \n",
        "\n",
        "print(cnt)"
      ],
      "execution_count": 23,
      "outputs": [
        {
          "output_type": "error",
          "ename": "KeyboardInterrupt",
          "evalue": "ignored",
          "traceback": [
            "\u001b[0;31m---------------------------------------------------------------------------\u001b[0m",
            "\u001b[0;31mKeyboardInterrupt\u001b[0m                         Traceback (most recent call last)",
            "\u001b[0;32m<ipython-input-23-1f62b0a84071>\u001b[0m in \u001b[0;36m<module>\u001b[0;34m()\u001b[0m\n\u001b[1;32m      3\u001b[0m \u001b[0mcnt\u001b[0m \u001b[0;34m=\u001b[0m \u001b[0;36m0\u001b[0m\u001b[0;34m\u001b[0m\u001b[0;34m\u001b[0m\u001b[0m\n\u001b[1;32m      4\u001b[0m \u001b[0;32mwhile\u001b[0m \u001b[0mm\u001b[0m \u001b[0;34m!=\u001b[0m \u001b[0;36m1\u001b[0m\u001b[0;34m:\u001b[0m\u001b[0;34m\u001b[0m\u001b[0;34m\u001b[0m\u001b[0m\n\u001b[0;32m----> 5\u001b[0;31m   \u001b[0;32mfor\u001b[0m \u001b[0mi\u001b[0m \u001b[0;32min\u001b[0m \u001b[0mrange\u001b[0m\u001b[0;34m(\u001b[0m\u001b[0mlen\u001b[0m\u001b[0;34m(\u001b[0m\u001b[0mx\u001b[0m\u001b[0;34m)\u001b[0m\u001b[0;34m)\u001b[0m\u001b[0;34m:\u001b[0m\u001b[0;34m\u001b[0m\u001b[0;34m\u001b[0m\u001b[0m\n\u001b[0m\u001b[1;32m      6\u001b[0m     \u001b[0;32mif\u001b[0m \u001b[0mm\u001b[0m \u001b[0;34m%\u001b[0m \u001b[0mx\u001b[0m\u001b[0;34m[\u001b[0m\u001b[0mi\u001b[0m\u001b[0;34m]\u001b[0m \u001b[0;34m==\u001b[0m \u001b[0;36m0\u001b[0m\u001b[0;34m:\u001b[0m\u001b[0;34m\u001b[0m\u001b[0;34m\u001b[0m\u001b[0m\n\u001b[1;32m      7\u001b[0m       \u001b[0mm\u001b[0m \u001b[0;34m/=\u001b[0m \u001b[0mx\u001b[0m\u001b[0;34m[\u001b[0m\u001b[0mi\u001b[0m\u001b[0;34m]\u001b[0m\u001b[0;34m\u001b[0m\u001b[0;34m\u001b[0m\u001b[0m\n",
            "\u001b[0;31mKeyboardInterrupt\u001b[0m: "
          ]
        }
      ]
    },
    {
      "cell_type": "code",
      "metadata": {
        "colab": {
          "base_uri": "https://localhost:8080/"
        },
        "id": "4-mmj03C409A",
        "outputId": "930d7cb0-cd5c-4850-b631-dd308b2d2e82"
      },
      "source": [
        "len(x)"
      ],
      "execution_count": 27,
      "outputs": [
        {
          "output_type": "execute_result",
          "data": {
            "text/plain": [
              "2"
            ]
          },
          "metadata": {
            "tags": []
          },
          "execution_count": 27
        }
      ]
    },
    {
      "cell_type": "code",
      "metadata": {
        "id": "ys-qXdg37KVC"
      },
      "source": [
        ""
      ],
      "execution_count": null,
      "outputs": []
    },
    {
      "cell_type": "markdown",
      "metadata": {
        "id": "-671csdj-iP3"
      },
      "source": [
        "### 답안 예시"
      ]
    },
    {
      "cell_type": "code",
      "metadata": {
        "colab": {
          "base_uri": "https://localhost:8080/"
        },
        "id": "WmHK2efE-jWT",
        "outputId": "04c3ff21-1da8-4082-d325-938ce55e183b"
      },
      "source": [
        "n, m = map(int, input().split())\n",
        "\n",
        "array = []\n",
        "for i in range(n):\n",
        "  array.append(int(input()))\n",
        "\n",
        "d = [10001] * (m+1)\n",
        "\n",
        "d[0] = 0\n",
        "for i in range(n):\n",
        "  for j in range(array[i], m+1):\n",
        "    if d[j - array[i]]  != 10001:        # 만드는 방법이 존재하는 경우 = 값이 있다면\n",
        "      d[j] = min(d[j], d[j-array[i]] + 1)    # 값 갱신\n",
        "\n",
        "\n",
        "# 계산된 결과 출력\n",
        "if d[m] == 10001:\n",
        "  print(-1)\n",
        "else:\n",
        "  print(d[m])"
      ],
      "execution_count": 28,
      "outputs": [
        {
          "output_type": "stream",
          "text": [
            "2 15\n",
            "2\n",
            "3\n",
            "5\n"
          ],
          "name": "stdout"
        }
      ]
    },
    {
      "cell_type": "code",
      "metadata": {
        "colab": {
          "base_uri": "https://localhost:8080/"
        },
        "id": "8fa6iiiQAGnr",
        "outputId": "aeab10e9-82df-4332-8abc-42739d6bb764"
      },
      "source": [
        "n, m = map(int, input().split())\n",
        "\n",
        "array = []\n",
        "for i in range(n):\n",
        "  array.append(int(input()))\n",
        "\n",
        "d = [10001] * (m+1)\n",
        "\n",
        "d[0] = 0\n",
        "for i in range(n):\n",
        "  for j in range(array[i], m+1):\n",
        "    if d[j - array[i]]  != 10001:        # 값이 있다면\n",
        "      d[j] = min(d[j], d[j-array[i]] + 1)    # 값 갱신\n",
        "\n",
        "\n",
        "if d[m] == 10001:\n",
        "  print(-1)\n",
        "else:\n",
        "  print(d[m])\n"
      ],
      "execution_count": 29,
      "outputs": [
        {
          "output_type": "stream",
          "text": [
            "3 4\n",
            "3\n",
            "5\n",
            "7\n",
            "-1\n"
          ],
          "name": "stdout"
        }
      ]
    },
    {
      "cell_type": "code",
      "metadata": {
        "id": "z6urVfK8AK66"
      },
      "source": [
        ""
      ],
      "execution_count": null,
      "outputs": []
    }
  ]
}