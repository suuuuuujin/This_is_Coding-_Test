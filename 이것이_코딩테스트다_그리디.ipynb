{
  "nbformat": 4,
  "nbformat_minor": 0,
  "metadata": {
    "colab": {
      "name": "이것이 코딩테스트다_그리디.ipynb",
      "provenance": [],
      "collapsed_sections": [
        "cVR3sEq1M5HB",
        "Of2VGQXuMijZ",
        "9zSVIId_QqQL",
        "yInqwNfwdNUp"
      ],
      "authorship_tag": "ABX9TyPJNmf0RePNcI/C0brf8Yui",
      "include_colab_link": true
    },
    "kernelspec": {
      "name": "python3",
      "display_name": "Python 3"
    },
    "language_info": {
      "name": "python"
    }
  },
  "cells": [
    {
      "cell_type": "markdown",
      "metadata": {
        "id": "view-in-github",
        "colab_type": "text"
      },
      "source": [
        "<a href=\"https://colab.research.google.com/github/suuuuuujin/This_is_Coding_Test/blob/main/%EC%9D%B4%EA%B2%83%EC%9D%B4_%EC%BD%94%EB%94%A9%ED%85%8C%EC%8A%A4%ED%8A%B8%EB%8B%A4_%EA%B7%B8%EB%A6%AC%EB%94%94.ipynb\" target=\"_parent\"><img src=\"https://colab.research.google.com/assets/colab-badge.svg\" alt=\"Open In Colab\"/></a>"
      ]
    },
    {
      "cell_type": "markdown",
      "metadata": {
        "id": "QivHG7DfM5Ry"
      },
      "source": [
        "# Chapter 3 그리디"
      ]
    },
    {
      "cell_type": "markdown",
      "metadata": {
        "id": "cVR3sEq1M5HB"
      },
      "source": [
        "## 1. 당장 좋은 것만 선택하는 그리디"
      ]
    },
    {
      "cell_type": "code",
      "metadata": {
        "id": "urZW04prfVuR"
      },
      "source": [
        "n = 1260\n",
        "count = 0"
      ],
      "execution_count": null,
      "outputs": []
    },
    {
      "cell_type": "code",
      "metadata": {
        "id": "WUyU3xL6fdnk"
      },
      "source": [
        "coin_types = [500,100,50,10]"
      ],
      "execution_count": null,
      "outputs": []
    },
    {
      "cell_type": "code",
      "metadata": {
        "id": "bHzdCkaUfzJq",
        "colab": {
          "base_uri": "https://localhost:8080/"
        },
        "outputId": "11fefa01-519e-4a88-bbdd-c85e34110ab3"
      },
      "source": [
        "1260 // 500"
      ],
      "execution_count": null,
      "outputs": [
        {
          "output_type": "execute_result",
          "data": {
            "text/plain": [
              "2"
            ]
          },
          "metadata": {
            "tags": []
          },
          "execution_count": 10
        }
      ]
    },
    {
      "cell_type": "code",
      "metadata": {
        "id": "Oos1om-DfgLs",
        "colab": {
          "base_uri": "https://localhost:8080/"
        },
        "outputId": "ebca376a-fc44-44f0-ca13-0ea03d5d3c34"
      },
      "source": [
        "for coin in coin_types:\n",
        "  count += n // coin\n",
        "  n %= coin \n",
        "\n",
        "print(count)"
      ],
      "execution_count": null,
      "outputs": [
        {
          "output_type": "stream",
          "text": [
            "6\n"
          ],
          "name": "stdout"
        }
      ]
    },
    {
      "cell_type": "code",
      "metadata": {
        "id": "v0O_RgT7txe8"
      },
      "source": [
        ""
      ],
      "execution_count": null,
      "outputs": []
    },
    {
      "cell_type": "markdown",
      "metadata": {
        "id": "wMRgiYRqMq6y"
      },
      "source": [
        "## 2.큰 수의 법칙 ##"
      ]
    },
    {
      "cell_type": "markdown",
      "metadata": {
        "id": "mevFO_jZMoF2"
      },
      "source": [
        "### Me"
      ]
    },
    {
      "cell_type": "code",
      "metadata": {
        "colab": {
          "base_uri": "https://localhost:8080/"
        },
        "id": "EvmGsBswEx1F",
        "outputId": "c45c7724-a4ce-4b5a-a7b9-8c88dc9001bd"
      },
      "source": [
        "n, m, k = map(int, input().split())"
      ],
      "execution_count": null,
      "outputs": [
        {
          "output_type": "stream",
          "text": [
            "5 7 2\n"
          ],
          "name": "stdout"
        }
      ]
    },
    {
      "cell_type": "code",
      "metadata": {
        "colab": {
          "base_uri": "https://localhost:8080/"
        },
        "id": "HRMNaEhJFk44",
        "outputId": "6f76b16b-5f7b-4d62-8bb1-a6fbd23b6c94"
      },
      "source": [
        "n"
      ],
      "execution_count": null,
      "outputs": [
        {
          "output_type": "execute_result",
          "data": {
            "text/plain": [
              "5"
            ]
          },
          "metadata": {
            "tags": []
          },
          "execution_count": 49
        }
      ]
    },
    {
      "cell_type": "code",
      "metadata": {
        "id": "L94NnvoK3lar",
        "colab": {
          "base_uri": "https://localhost:8080/"
        },
        "outputId": "8d5fad9e-60e1-42b3-fb58-2f9eeba77782"
      },
      "source": [
        "y = list(map(int, input().split()))"
      ],
      "execution_count": null,
      "outputs": [
        {
          "output_type": "stream",
          "text": [
            "3 4 3 4 3\n"
          ],
          "name": "stdout"
        }
      ]
    },
    {
      "cell_type": "code",
      "metadata": {
        "colab": {
          "base_uri": "https://localhost:8080/"
        },
        "id": "DFGgCSVTFhtn",
        "outputId": "a89c51a3-3038-4f24-8929-c6161ead1e48"
      },
      "source": [
        "y"
      ],
      "execution_count": null,
      "outputs": [
        {
          "output_type": "execute_result",
          "data": {
            "text/plain": [
              "[3, 4, 3, 4, 3]"
            ]
          },
          "metadata": {
            "tags": []
          },
          "execution_count": 51
        }
      ]
    },
    {
      "cell_type": "code",
      "metadata": {
        "id": "xFbYJWFWGAbk"
      },
      "source": [
        "y.sort(reverse=True)"
      ],
      "execution_count": null,
      "outputs": []
    },
    {
      "cell_type": "code",
      "metadata": {
        "colab": {
          "base_uri": "https://localhost:8080/"
        },
        "id": "wy1ErVo6HXVg",
        "outputId": "6e56166f-9947-498c-e3f3-44b491e28a34"
      },
      "source": [
        "y"
      ],
      "execution_count": null,
      "outputs": [
        {
          "output_type": "execute_result",
          "data": {
            "text/plain": [
              "[4, 4, 3, 3, 3]"
            ]
          },
          "metadata": {
            "tags": []
          },
          "execution_count": 53
        }
      ]
    },
    {
      "cell_type": "code",
      "metadata": {
        "id": "mDban3MMGId2"
      },
      "source": [
        "cnt = 1\n",
        "total = 0\n",
        "for i in range(m):\n",
        "  if cnt <= k:  \n",
        "    total += y[0]\n",
        "    cnt += 1\n",
        "  else:\n",
        "    total += y[1]\n",
        "    cnt = 1"
      ],
      "execution_count": null,
      "outputs": []
    },
    {
      "cell_type": "code",
      "metadata": {
        "colab": {
          "base_uri": "https://localhost:8080/"
        },
        "id": "LUDUswcPGuQv",
        "outputId": "9cd779f4-490e-4861-cbb8-2cee93bccbfe"
      },
      "source": [
        "total"
      ],
      "execution_count": null,
      "outputs": [
        {
          "output_type": "execute_result",
          "data": {
            "text/plain": [
              "28"
            ]
          },
          "metadata": {
            "tags": []
          },
          "execution_count": 55
        }
      ]
    },
    {
      "cell_type": "markdown",
      "metadata": {
        "id": "Of2VGQXuMijZ"
      },
      "source": [
        "### 풀이 예시1"
      ]
    },
    {
      "cell_type": "code",
      "metadata": {
        "colab": {
          "base_uri": "https://localhost:8080/"
        },
        "id": "kqt_OlplKUo6",
        "outputId": "8139ec8a-30ef-408c-f84d-87cffa4d4c92"
      },
      "source": [
        "n , m , k = map(int, input().split())"
      ],
      "execution_count": null,
      "outputs": [
        {
          "output_type": "stream",
          "text": [
            "5 8 3\n"
          ],
          "name": "stdout"
        }
      ]
    },
    {
      "cell_type": "code",
      "metadata": {
        "colab": {
          "base_uri": "https://localhost:8080/"
        },
        "id": "W4PrB7uhKUmK",
        "outputId": "33187748-7e21-410f-cfea-ac27818d4480"
      },
      "source": [
        "data = list(map(int, input().split()))"
      ],
      "execution_count": null,
      "outputs": [
        {
          "output_type": "stream",
          "text": [
            "2 4 5 4 6\n"
          ],
          "name": "stdout"
        }
      ]
    },
    {
      "cell_type": "code",
      "metadata": {
        "id": "kTghexwhKUiK"
      },
      "source": [
        "data.sort()\n",
        "first = data[n-1]\n",
        "second = data[n-2]"
      ],
      "execution_count": null,
      "outputs": []
    },
    {
      "cell_type": "code",
      "metadata": {
        "id": "-4rdMtWlKUfo"
      },
      "source": [
        "result = 0\n",
        "\n",
        "while True:\n",
        "  for i in range(k):\n",
        "    if m == 0:\n",
        "      break\n",
        "    result += first\n",
        "    m -= 1\n",
        "  \n",
        "  if m == 0:\n",
        "    break\n",
        "  result += second\n",
        "  m -= 1\n",
        "  \n",
        "print(result)"
      ],
      "execution_count": null,
      "outputs": []
    },
    {
      "cell_type": "code",
      "metadata": {
        "id": "4OwQYZfmJab9"
      },
      "source": [
        ""
      ],
      "execution_count": null,
      "outputs": []
    },
    {
      "cell_type": "markdown",
      "metadata": {
        "id": "9zSVIId_QqQL"
      },
      "source": [
        "### 풀이 예시2"
      ]
    },
    {
      "cell_type": "code",
      "metadata": {
        "colab": {
          "base_uri": "https://localhost:8080/"
        },
        "id": "xnhzuTIHQsCO",
        "outputId": "06eed566-bd24-4008-caa8-4b2509e23cab"
      },
      "source": [
        "n, m, k = map(int, input().split())"
      ],
      "execution_count": null,
      "outputs": [
        {
          "output_type": "stream",
          "text": [
            "5 8 3\n"
          ],
          "name": "stdout"
        }
      ]
    },
    {
      "cell_type": "code",
      "metadata": {
        "colab": {
          "base_uri": "https://localhost:8080/"
        },
        "id": "TVChw-64Qw_G",
        "outputId": "9072cb34-bf41-4e6a-b32d-5df3f3498cc7"
      },
      "source": [
        "data = list(map(int, input().split()))"
      ],
      "execution_count": null,
      "outputs": [
        {
          "output_type": "stream",
          "text": [
            "2 4 5 4 6\n"
          ],
          "name": "stdout"
        }
      ]
    },
    {
      "cell_type": "code",
      "metadata": {
        "id": "nZmock8KQ3iT"
      },
      "source": [
        "data.sort()\n",
        "first = data[n-1]\n",
        "second = data[n-2]"
      ],
      "execution_count": null,
      "outputs": []
    },
    {
      "cell_type": "code",
      "metadata": {
        "id": "VkAHFiSrRFVh"
      },
      "source": [
        "count = int(m/(k+1)) * k\n",
        "count += m % (k+1)"
      ],
      "execution_count": null,
      "outputs": []
    },
    {
      "cell_type": "code",
      "metadata": {
        "colab": {
          "base_uri": "https://localhost:8080/"
        },
        "id": "-nPu3KTIRW9n",
        "outputId": "b1c12ead-e3b1-4228-c8af-bed009b9a852"
      },
      "source": [
        "result = 0\n",
        "result += (count) * first\n",
        "result += (m-count) * second\n",
        "\n",
        "print(result)"
      ],
      "execution_count": null,
      "outputs": [
        {
          "output_type": "stream",
          "text": [
            "46\n"
          ],
          "name": "stdout"
        }
      ]
    },
    {
      "cell_type": "code",
      "metadata": {
        "id": "rsvJGsLQRegZ"
      },
      "source": [
        ""
      ],
      "execution_count": null,
      "outputs": []
    },
    {
      "cell_type": "markdown",
      "metadata": {
        "id": "Jqyv-G2JSTrd"
      },
      "source": [
        "## 3. 숫자 카드 게임"
      ]
    },
    {
      "cell_type": "markdown",
      "metadata": {
        "id": "oOJ142LbdKH8"
      },
      "source": [
        "### Me"
      ]
    },
    {
      "cell_type": "code",
      "metadata": {
        "colab": {
          "base_uri": "https://localhost:8080/"
        },
        "id": "uqe8obZzSXEY",
        "outputId": "76d98dc8-4038-4784-916f-757f86db6300"
      },
      "source": [
        " n,m = map(int, input().split())"
      ],
      "execution_count": 95,
      "outputs": [
        {
          "output_type": "stream",
          "text": [
            "2 4\n"
          ],
          "name": "stdout"
        }
      ]
    },
    {
      "cell_type": "code",
      "metadata": {
        "colab": {
          "base_uri": "https://localhost:8080/"
        },
        "id": "tqXlgFJNWZRc",
        "outputId": "03ad4034-651a-42e1-d0d8-54a39cd1dc9f"
      },
      "source": [
        "x = []\n",
        "for i in range(n):\n",
        "  x.append(list(map(int, input().split())))\n"
      ],
      "execution_count": 96,
      "outputs": [
        {
          "output_type": "stream",
          "text": [
            "7 3 1 8\n",
            "3 3 3 4\n"
          ],
          "name": "stdout"
        }
      ]
    },
    {
      "cell_type": "code",
      "metadata": {
        "id": "Ne9PolTsW4Wb",
        "colab": {
          "base_uri": "https://localhost:8080/"
        },
        "outputId": "1f54f95c-1f76-4209-9dc9-3043dee72497"
      },
      "source": [
        "x"
      ],
      "execution_count": 97,
      "outputs": [
        {
          "output_type": "execute_result",
          "data": {
            "text/plain": [
              "[[7, 3, 1, 8], [3, 3, 3, 4]]"
            ]
          },
          "metadata": {
            "tags": []
          },
          "execution_count": 97
        }
      ]
    },
    {
      "cell_type": "code",
      "metadata": {
        "colab": {
          "base_uri": "https://localhost:8080/"
        },
        "id": "df57d5Adb9Lm",
        "outputId": "38b9d4a6-153e-4ad4-a5f5-de88d4d08c15"
      },
      "source": [
        "min(x[0])"
      ],
      "execution_count": 98,
      "outputs": [
        {
          "output_type": "execute_result",
          "data": {
            "text/plain": [
              "1"
            ]
          },
          "metadata": {
            "tags": []
          },
          "execution_count": 98
        }
      ]
    },
    {
      "cell_type": "code",
      "metadata": {
        "colab": {
          "base_uri": "https://localhost:8080/"
        },
        "id": "Agnfk8SObRAb",
        "outputId": "d0770655-b7af-43ab-af8b-63cc37585faf"
      },
      "source": [
        "num = []\n",
        "for i in range(n):\n",
        "  num.append(min(x[i]))\n",
        "\n",
        "print(max(num))"
      ],
      "execution_count": 99,
      "outputs": [
        {
          "output_type": "stream",
          "text": [
            "3\n"
          ],
          "name": "stdout"
        }
      ]
    },
    {
      "cell_type": "code",
      "metadata": {
        "id": "cFWCMUDSbosG"
      },
      "source": [
        ""
      ],
      "execution_count": null,
      "outputs": []
    },
    {
      "cell_type": "markdown",
      "metadata": {
        "id": "yInqwNfwdNUp"
      },
      "source": [
        "## 답안 예시1\n",
        "min()"
      ]
    },
    {
      "cell_type": "code",
      "metadata": {
        "colab": {
          "base_uri": "https://localhost:8080/"
        },
        "id": "Lqeqrip5dPno",
        "outputId": "d9831276-f187-4e14-fa6b-6817d29340ad"
      },
      "source": [
        "n, m = map(int, input().split())"
      ],
      "execution_count": 100,
      "outputs": [
        {
          "output_type": "stream",
          "text": [
            "3 3\n"
          ],
          "name": "stdout"
        }
      ]
    },
    {
      "cell_type": "code",
      "metadata": {
        "colab": {
          "base_uri": "https://localhost:8080/"
        },
        "id": "2HhjLz_qdTZS",
        "outputId": "7291a392-b126-42d4-9050-ac9bcea1bc9c"
      },
      "source": [
        "result = 0\n",
        "\n",
        "for i in range(n):\n",
        "  data = list(map(int, input().split()))\n",
        "  min_value = min(data)\n",
        "  result = max(result, min_value)\n",
        "\n",
        "print(result)"
      ],
      "execution_count": 101,
      "outputs": [
        {
          "output_type": "stream",
          "text": [
            "3 1 2\n",
            "4 1 4\n",
            "2 2 2\n",
            "2\n"
          ],
          "name": "stdout"
        }
      ]
    },
    {
      "cell_type": "markdown",
      "metadata": {
        "id": "dquacgCcds2O"
      },
      "source": [
        "## 답안 예시2\n",
        "2중 반복문"
      ]
    },
    {
      "cell_type": "code",
      "metadata": {
        "colab": {
          "base_uri": "https://localhost:8080/"
        },
        "id": "rbueZ6kKdm5Z",
        "outputId": "2fd419eb-1900-43bd-ab7a-af9a98374662"
      },
      "source": [
        "n, m = map(int, input().split())"
      ],
      "execution_count": 102,
      "outputs": [
        {
          "output_type": "stream",
          "text": [
            "3 3\n"
          ],
          "name": "stdout"
        }
      ]
    },
    {
      "cell_type": "code",
      "metadata": {
        "colab": {
          "base_uri": "https://localhost:8080/"
        },
        "id": "d75ZKbnrdxHY",
        "outputId": "6e84906d-64c1-468c-f964-b0c1a1e9e55b"
      },
      "source": [
        "result = 0\n",
        "\n",
        "for i in range(n):\n",
        "  data = list(map(int, input().split()))\n",
        "  min_value = 10001\n",
        "  for a in data:\n",
        "    min_value = min(min_value, a)\n",
        "  result = max(result, min_value)\n",
        "\n",
        "print(result)"
      ],
      "execution_count": 103,
      "outputs": [
        {
          "output_type": "stream",
          "text": [
            "3 1 2\n",
            "4 1 4\n",
            "2 2 2\n",
            "2\n"
          ],
          "name": "stdout"
        }
      ]
    },
    {
      "cell_type": "markdown",
      "metadata": {
        "id": "dEoAKb5LekKh"
      },
      "source": [
        "## 4. 1이 될 때까지"
      ]
    },
    {
      "cell_type": "markdown",
      "metadata": {
        "id": "ZIKqAGkghbb-"
      },
      "source": [
        "### Me\n",
        "틀림"
      ]
    },
    {
      "cell_type": "code",
      "metadata": {
        "colab": {
          "base_uri": "https://localhost:8080/"
        },
        "id": "8Yp6WNq8enXI",
        "outputId": "c5e55a52-cb84-4d18-c3ce-cccd4a49d9d0"
      },
      "source": [
        "n, m = map(int, input().split())"
      ],
      "execution_count": 116,
      "outputs": [
        {
          "output_type": "stream",
          "text": [
            "27 3\n"
          ],
          "name": "stdout"
        }
      ]
    },
    {
      "cell_type": "code",
      "metadata": {
        "colab": {
          "base_uri": "https://localhost:8080/"
        },
        "id": "X1EniQ2AfJ3o",
        "outputId": "6108523a-43de-4a16-cfdd-6ecef7e83f33"
      },
      "source": [
        "cnt = 0\n",
        "while True:\n",
        "  if n == 1:\n",
        "    break\n",
        "  if n % m != 0 :\n",
        "    n -= 1\n",
        "    cnt += 1\n",
        "  elif n % m == 0:\n",
        "    n = int(n/m)\n",
        "    cnt += 1\n",
        "\n",
        "print(cnt)"
      ],
      "execution_count": 117,
      "outputs": [
        {
          "output_type": "stream",
          "text": [
            "3\n"
          ],
          "name": "stdout"
        }
      ]
    },
    {
      "cell_type": "code",
      "metadata": {
        "id": "pZT07vNOg7Sx"
      },
      "source": [
        ""
      ],
      "execution_count": null,
      "outputs": []
    },
    {
      "cell_type": "markdown",
      "metadata": {
        "id": "1ZnvSwp2hc31"
      },
      "source": [
        "### 답안 예시1"
      ]
    },
    {
      "cell_type": "code",
      "metadata": {
        "colab": {
          "base_uri": "https://localhost:8080/"
        },
        "id": "SNJkAtVAheyE",
        "outputId": "0fa24b3d-84c7-45d1-ba1d-f32de367c9be"
      },
      "source": [
        "n, k = map(int, input().split())"
      ],
      "execution_count": 126,
      "outputs": [
        {
          "output_type": "stream",
          "text": [
            "25 3\n"
          ],
          "name": "stdout"
        }
      ]
    },
    {
      "cell_type": "code",
      "metadata": {
        "colab": {
          "base_uri": "https://localhost:8080/"
        },
        "id": "yf49Joynhi4l",
        "outputId": "771b1115-1e80-4826-f755-c4815adab98c"
      },
      "source": [
        "result = 0\n",
        "\n",
        "while n >= k:\n",
        "  while n % k != 0:\n",
        "    n -= 1\n",
        "    result += 1\n",
        "  n //= k\n",
        "  result += 1\n",
        "\n",
        "while n > 1:\n",
        "  n -= 1\n",
        "  result += 1\n",
        "  \n",
        "print(result)"
      ],
      "execution_count": 127,
      "outputs": [
        {
          "output_type": "stream",
          "text": [
            "6\n"
          ],
          "name": "stdout"
        }
      ]
    },
    {
      "cell_type": "code",
      "metadata": {
        "id": "5fQmH-RKh5kS"
      },
      "source": [
        ""
      ],
      "execution_count": null,
      "outputs": []
    },
    {
      "cell_type": "markdown",
      "metadata": {
        "id": "uL-spSX2ijSx"
      },
      "source": [
        "### 답안 예시2"
      ]
    },
    {
      "cell_type": "code",
      "metadata": {
        "colab": {
          "base_uri": "https://localhost:8080/"
        },
        "id": "J3i1xRkCikJB",
        "outputId": "9ebba576-3c60-455c-d717-a789a689f02a"
      },
      "source": [
        "n, k = map(int, input().split())"
      ],
      "execution_count": 129,
      "outputs": [
        {
          "output_type": "stream",
          "text": [
            "25 3\n"
          ],
          "name": "stdout"
        }
      ]
    },
    {
      "cell_type": "code",
      "metadata": {
        "colab": {
          "base_uri": "https://localhost:8080/"
        },
        "id": "41MSwa6Yilik",
        "outputId": "2638657c-9ec1-482d-a2c7-bfdf267b3dfc"
      },
      "source": [
        "result = 0\n",
        "\n",
        "while True:\n",
        "  target = (n // k) * k\n",
        "  result += (n - target)\n",
        "  n = target\n",
        "\n",
        "  if n < k :\n",
        "    break\n",
        "  \n",
        "  result += 1\n",
        "  n //= k\n",
        "\n",
        "result += (n-1)\n",
        "print(result)"
      ],
      "execution_count": 130,
      "outputs": [
        {
          "output_type": "stream",
          "text": [
            "6\n"
          ],
          "name": "stdout"
        }
      ]
    },
    {
      "cell_type": "code",
      "metadata": {
        "id": "IRZjj04skq_r"
      },
      "source": [
        ""
      ],
      "execution_count": null,
      "outputs": []
    }
  ]
}